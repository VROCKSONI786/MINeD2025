{
  "nbformat": 4,
  "nbformat_minor": 0,
  "metadata": {
    "colab": {
      "provenance": []
    },
    "kernelspec": {
      "name": "python3",
      "display_name": "Python 3"
    },
    "language_info": {
      "name": "python"
    }
  },
  "cells": [
    {
      "cell_type": "code",
      "source": [
        "!pip install PyPDF2"
      ],
      "metadata": {
        "colab": {
          "base_uri": "https://localhost:8080/"
        },
        "collapsed": true,
        "id": "yO3tjqSjlPTE",
        "outputId": "715ebfcc-4c77-4dcf-cb22-05514e0f0ff0"
      },
      "execution_count": 1,
      "outputs": [
        {
          "output_type": "stream",
          "name": "stdout",
          "text": [
            "Collecting PyPDF2\n",
            "  Downloading pypdf2-3.0.1-py3-none-any.whl.metadata (6.8 kB)\n",
            "Downloading pypdf2-3.0.1-py3-none-any.whl (232 kB)\n",
            "\u001b[2K   \u001b[90m━━━━━━━━━━━━━━━━━━━━━━━━━━━━━━━━━━━━━━━━\u001b[0m \u001b[32m232.6/232.6 kB\u001b[0m \u001b[31m4.1 MB/s\u001b[0m eta \u001b[36m0:00:00\u001b[0m\n",
            "\u001b[?25hInstalling collected packages: PyPDF2\n",
            "Successfully installed PyPDF2-3.0.1\n"
          ]
        }
      ]
    },
    {
      "cell_type": "code",
      "source": [
        "!pip install google-generativeai"
      ],
      "metadata": {
        "id": "Yu1KcTx7R-gc",
        "colab": {
          "base_uri": "https://localhost:8080/"
        },
        "collapsed": true,
        "outputId": "a993c663-48d6-4df0-9064-05f2dd3602d3"
      },
      "execution_count": 2,
      "outputs": [
        {
          "output_type": "stream",
          "name": "stdout",
          "text": [
            "Requirement already satisfied: google-generativeai in /usr/local/lib/python3.11/dist-packages (0.8.4)\n",
            "Requirement already satisfied: google-ai-generativelanguage==0.6.15 in /usr/local/lib/python3.11/dist-packages (from google-generativeai) (0.6.15)\n",
            "Requirement already satisfied: google-api-core in /usr/local/lib/python3.11/dist-packages (from google-generativeai) (2.19.2)\n",
            "Requirement already satisfied: google-api-python-client in /usr/local/lib/python3.11/dist-packages (from google-generativeai) (2.155.0)\n",
            "Requirement already satisfied: google-auth>=2.15.0 in /usr/local/lib/python3.11/dist-packages (from google-generativeai) (2.27.0)\n",
            "Requirement already satisfied: protobuf in /usr/local/lib/python3.11/dist-packages (from google-generativeai) (4.25.6)\n",
            "Requirement already satisfied: pydantic in /usr/local/lib/python3.11/dist-packages (from google-generativeai) (2.10.6)\n",
            "Requirement already satisfied: tqdm in /usr/local/lib/python3.11/dist-packages (from google-generativeai) (4.67.1)\n",
            "Requirement already satisfied: typing-extensions in /usr/local/lib/python3.11/dist-packages (from google-generativeai) (4.12.2)\n",
            "Requirement already satisfied: proto-plus<2.0.0dev,>=1.22.3 in /usr/local/lib/python3.11/dist-packages (from google-ai-generativelanguage==0.6.15->google-generativeai) (1.26.0)\n",
            "Requirement already satisfied: googleapis-common-protos<2.0.dev0,>=1.56.2 in /usr/local/lib/python3.11/dist-packages (from google-api-core->google-generativeai) (1.66.0)\n",
            "Requirement already satisfied: requests<3.0.0.dev0,>=2.18.0 in /usr/local/lib/python3.11/dist-packages (from google-api-core->google-generativeai) (2.32.3)\n",
            "Requirement already satisfied: cachetools<6.0,>=2.0.0 in /usr/local/lib/python3.11/dist-packages (from google-auth>=2.15.0->google-generativeai) (5.5.1)\n",
            "Requirement already satisfied: pyasn1-modules>=0.2.1 in /usr/local/lib/python3.11/dist-packages (from google-auth>=2.15.0->google-generativeai) (0.4.1)\n",
            "Requirement already satisfied: rsa<5,>=3.1.4 in /usr/local/lib/python3.11/dist-packages (from google-auth>=2.15.0->google-generativeai) (4.9)\n",
            "Requirement already satisfied: httplib2<1.dev0,>=0.19.0 in /usr/local/lib/python3.11/dist-packages (from google-api-python-client->google-generativeai) (0.22.0)\n",
            "Requirement already satisfied: google-auth-httplib2<1.0.0,>=0.2.0 in /usr/local/lib/python3.11/dist-packages (from google-api-python-client->google-generativeai) (0.2.0)\n",
            "Requirement already satisfied: uritemplate<5,>=3.0.1 in /usr/local/lib/python3.11/dist-packages (from google-api-python-client->google-generativeai) (4.1.1)\n",
            "Requirement already satisfied: annotated-types>=0.6.0 in /usr/local/lib/python3.11/dist-packages (from pydantic->google-generativeai) (0.7.0)\n",
            "Requirement already satisfied: pydantic-core==2.27.2 in /usr/local/lib/python3.11/dist-packages (from pydantic->google-generativeai) (2.27.2)\n",
            "Requirement already satisfied: grpcio<2.0dev,>=1.33.2 in /usr/local/lib/python3.11/dist-packages (from google-api-core[grpc]!=2.0.*,!=2.1.*,!=2.10.*,!=2.2.*,!=2.3.*,!=2.4.*,!=2.5.*,!=2.6.*,!=2.7.*,!=2.8.*,!=2.9.*,<3.0.0dev,>=1.34.1->google-ai-generativelanguage==0.6.15->google-generativeai) (1.70.0)\n",
            "Requirement already satisfied: grpcio-status<2.0.dev0,>=1.33.2 in /usr/local/lib/python3.11/dist-packages (from google-api-core[grpc]!=2.0.*,!=2.1.*,!=2.10.*,!=2.2.*,!=2.3.*,!=2.4.*,!=2.5.*,!=2.6.*,!=2.7.*,!=2.8.*,!=2.9.*,<3.0.0dev,>=1.34.1->google-ai-generativelanguage==0.6.15->google-generativeai) (1.62.3)\n",
            "Requirement already satisfied: pyparsing!=3.0.0,!=3.0.1,!=3.0.2,!=3.0.3,<4,>=2.4.2 in /usr/local/lib/python3.11/dist-packages (from httplib2<1.dev0,>=0.19.0->google-api-python-client->google-generativeai) (3.2.1)\n",
            "Requirement already satisfied: pyasn1<0.7.0,>=0.4.6 in /usr/local/lib/python3.11/dist-packages (from pyasn1-modules>=0.2.1->google-auth>=2.15.0->google-generativeai) (0.6.1)\n",
            "Requirement already satisfied: charset-normalizer<4,>=2 in /usr/local/lib/python3.11/dist-packages (from requests<3.0.0.dev0,>=2.18.0->google-api-core->google-generativeai) (3.4.1)\n",
            "Requirement already satisfied: idna<4,>=2.5 in /usr/local/lib/python3.11/dist-packages (from requests<3.0.0.dev0,>=2.18.0->google-api-core->google-generativeai) (3.10)\n",
            "Requirement already satisfied: urllib3<3,>=1.21.1 in /usr/local/lib/python3.11/dist-packages (from requests<3.0.0.dev0,>=2.18.0->google-api-core->google-generativeai) (2.3.0)\n",
            "Requirement already satisfied: certifi>=2017.4.17 in /usr/local/lib/python3.11/dist-packages (from requests<3.0.0.dev0,>=2.18.0->google-api-core->google-generativeai) (2024.12.14)\n"
          ]
        }
      ]
    },
    {
      "cell_type": "markdown",
      "source": [
        "IMAGE EXTRACTION (DO NOT RESTART SESSION AFTER THIS CODE CELL EXECUTES)"
      ],
      "metadata": {
        "id": "w1ddoSrLRkJ3"
      }
    },
    {
      "cell_type": "code",
      "source": [
        "!pip install \"unstructured[pdf]\""
      ],
      "metadata": {
        "colab": {
          "base_uri": "https://localhost:8080/",
          "height": 1000
        },
        "collapsed": true,
        "id": "2HuF8TtM4mXj",
        "outputId": "fbe64506-d4f2-44c7-9e87-2862d5119bb0"
      },
      "execution_count": 3,
      "outputs": [
        {
          "output_type": "stream",
          "name": "stdout",
          "text": [
            "Collecting unstructured[pdf]\n",
            "  Downloading unstructured-0.16.17-py3-none-any.whl.metadata (24 kB)\n",
            "Requirement already satisfied: chardet in /usr/local/lib/python3.11/dist-packages (from unstructured[pdf]) (5.2.0)\n",
            "Collecting filetype (from unstructured[pdf])\n",
            "  Downloading filetype-1.2.0-py2.py3-none-any.whl.metadata (6.5 kB)\n",
            "Collecting python-magic (from unstructured[pdf])\n",
            "  Downloading python_magic-0.4.27-py2.py3-none-any.whl.metadata (5.8 kB)\n",
            "Requirement already satisfied: lxml in /usr/local/lib/python3.11/dist-packages (from unstructured[pdf]) (5.3.0)\n",
            "Requirement already satisfied: nltk in /usr/local/lib/python3.11/dist-packages (from unstructured[pdf]) (3.9.1)\n",
            "Requirement already satisfied: requests in /usr/local/lib/python3.11/dist-packages (from unstructured[pdf]) (2.32.3)\n",
            "Requirement already satisfied: beautifulsoup4 in /usr/local/lib/python3.11/dist-packages (from unstructured[pdf]) (4.12.3)\n",
            "Collecting emoji (from unstructured[pdf])\n",
            "  Downloading emoji-2.14.1-py3-none-any.whl.metadata (5.7 kB)\n",
            "Collecting dataclasses-json (from unstructured[pdf])\n",
            "  Downloading dataclasses_json-0.6.7-py3-none-any.whl.metadata (25 kB)\n",
            "Collecting python-iso639 (from unstructured[pdf])\n",
            "  Downloading python_iso639-2025.1.28-py3-none-any.whl.metadata (13 kB)\n",
            "Collecting langdetect (from unstructured[pdf])\n",
            "  Downloading langdetect-1.0.9.tar.gz (981 kB)\n",
            "\u001b[2K     \u001b[90m━━━━━━━━━━━━━━━━━━━━━━━━━━━━━━━━━━━━━━━━\u001b[0m \u001b[32m981.5/981.5 kB\u001b[0m \u001b[31m17.8 MB/s\u001b[0m eta \u001b[36m0:00:00\u001b[0m\n",
            "\u001b[?25h  Preparing metadata (setup.py) ... \u001b[?25l\u001b[?25hdone\n",
            "Requirement already satisfied: numpy<2 in /usr/local/lib/python3.11/dist-packages (from unstructured[pdf]) (1.26.4)\n",
            "Collecting rapidfuzz (from unstructured[pdf])\n",
            "  Downloading rapidfuzz-3.12.1-cp311-cp311-manylinux_2_17_x86_64.manylinux2014_x86_64.whl.metadata (11 kB)\n",
            "Collecting backoff (from unstructured[pdf])\n",
            "  Downloading backoff-2.2.1-py3-none-any.whl.metadata (14 kB)\n",
            "Requirement already satisfied: typing-extensions in /usr/local/lib/python3.11/dist-packages (from unstructured[pdf]) (4.12.2)\n",
            "Collecting unstructured-client (from unstructured[pdf])\n",
            "  Downloading unstructured_client-0.29.0-py3-none-any.whl.metadata (20 kB)\n",
            "Requirement already satisfied: wrapt in /usr/local/lib/python3.11/dist-packages (from unstructured[pdf]) (1.17.2)\n",
            "Requirement already satisfied: tqdm in /usr/local/lib/python3.11/dist-packages (from unstructured[pdf]) (4.67.1)\n",
            "Requirement already satisfied: psutil in /usr/local/lib/python3.11/dist-packages (from unstructured[pdf]) (5.9.5)\n",
            "Collecting python-oxmsg (from unstructured[pdf])\n",
            "  Downloading python_oxmsg-0.0.1-py3-none-any.whl.metadata (5.0 kB)\n",
            "Requirement already satisfied: html5lib in /usr/local/lib/python3.11/dist-packages (from unstructured[pdf]) (1.1)\n",
            "Collecting onnx (from unstructured[pdf])\n",
            "  Downloading onnx-1.17.0-cp311-cp311-manylinux_2_17_x86_64.manylinux2014_x86_64.whl.metadata (16 kB)\n",
            "Collecting pdf2image (from unstructured[pdf])\n",
            "  Downloading pdf2image-1.17.0-py3-none-any.whl.metadata (6.2 kB)\n",
            "Collecting pdfminer.six (from unstructured[pdf])\n",
            "  Downloading pdfminer.six-20240706-py3-none-any.whl.metadata (4.1 kB)\n",
            "Collecting pikepdf (from unstructured[pdf])\n",
            "  Downloading pikepdf-9.5.1-cp311-cp311-manylinux_2_17_x86_64.manylinux2014_x86_64.whl.metadata (8.1 kB)\n",
            "Collecting pi-heif (from unstructured[pdf])\n",
            "  Downloading pi_heif-0.21.0-cp311-cp311-manylinux_2_17_x86_64.manylinux2014_x86_64.whl.metadata (6.5 kB)\n",
            "Collecting pypdf (from unstructured[pdf])\n",
            "  Downloading pypdf-5.2.0-py3-none-any.whl.metadata (7.2 kB)\n",
            "Collecting google-cloud-vision (from unstructured[pdf])\n",
            "  Downloading google_cloud_vision-3.9.0-py2.py3-none-any.whl.metadata (5.3 kB)\n",
            "Collecting effdet (from unstructured[pdf])\n",
            "  Downloading effdet-0.4.1-py3-none-any.whl.metadata (33 kB)\n",
            "Collecting unstructured-inference>=0.8.6 (from unstructured[pdf])\n",
            "  Downloading unstructured_inference-0.8.6-py3-none-any.whl.metadata (5.3 kB)\n",
            "Collecting unstructured.pytesseract>=0.3.12 (from unstructured[pdf])\n",
            "  Downloading unstructured.pytesseract-0.3.13-py3-none-any.whl.metadata (11 kB)\n",
            "Collecting python-multipart (from unstructured-inference>=0.8.6->unstructured[pdf])\n",
            "  Downloading python_multipart-0.0.20-py3-none-any.whl.metadata (1.8 kB)\n",
            "Requirement already satisfied: huggingface-hub in /usr/local/lib/python3.11/dist-packages (from unstructured-inference>=0.8.6->unstructured[pdf]) (0.27.1)\n",
            "Requirement already satisfied: opencv-python!=4.7.0.68 in /usr/local/lib/python3.11/dist-packages (from unstructured-inference>=0.8.6->unstructured[pdf]) (4.10.0.84)\n",
            "Collecting onnxruntime>=1.17.0 (from unstructured-inference>=0.8.6->unstructured[pdf])\n",
            "  Downloading onnxruntime-1.20.1-cp311-cp311-manylinux_2_27_x86_64.manylinux_2_28_x86_64.whl.metadata (4.5 kB)\n",
            "Requirement already satisfied: matplotlib in /usr/local/lib/python3.11/dist-packages (from unstructured-inference>=0.8.6->unstructured[pdf]) (3.10.0)\n",
            "Requirement already satisfied: torch in /usr/local/lib/python3.11/dist-packages (from unstructured-inference>=0.8.6->unstructured[pdf]) (2.5.1+cu124)\n",
            "Requirement already satisfied: timm in /usr/local/lib/python3.11/dist-packages (from unstructured-inference>=0.8.6->unstructured[pdf]) (1.0.14)\n",
            "Requirement already satisfied: transformers>=4.25.1 in /usr/local/lib/python3.11/dist-packages (from unstructured-inference>=0.8.6->unstructured[pdf]) (4.47.1)\n",
            "Requirement already satisfied: pandas in /usr/local/lib/python3.11/dist-packages (from unstructured-inference>=0.8.6->unstructured[pdf]) (2.2.2)\n",
            "Requirement already satisfied: scipy in /usr/local/lib/python3.11/dist-packages (from unstructured-inference>=0.8.6->unstructured[pdf]) (1.13.1)\n",
            "Collecting pypdfium2 (from unstructured-inference>=0.8.6->unstructured[pdf])\n",
            "  Downloading pypdfium2-4.30.1-py3-none-manylinux_2_17_x86_64.manylinux2014_x86_64.whl.metadata (48 kB)\n",
            "\u001b[2K     \u001b[90m━━━━━━━━━━━━━━━━━━━━━━━━━━━━━━━━━━━━━━━━\u001b[0m \u001b[32m48.2/48.2 kB\u001b[0m \u001b[31m3.9 MB/s\u001b[0m eta \u001b[36m0:00:00\u001b[0m\n",
            "\u001b[?25hRequirement already satisfied: charset-normalizer>=2.0.0 in /usr/local/lib/python3.11/dist-packages (from pdfminer.six->unstructured[pdf]) (3.4.1)\n",
            "Requirement already satisfied: cryptography>=36.0.0 in /usr/local/lib/python3.11/dist-packages (from pdfminer.six->unstructured[pdf]) (43.0.3)\n",
            "Requirement already satisfied: packaging>=21.3 in /usr/local/lib/python3.11/dist-packages (from unstructured.pytesseract>=0.3.12->unstructured[pdf]) (24.2)\n",
            "Requirement already satisfied: Pillow>=8.0.0 in /usr/local/lib/python3.11/dist-packages (from unstructured.pytesseract>=0.3.12->unstructured[pdf]) (11.1.0)\n",
            "Requirement already satisfied: soupsieve>1.2 in /usr/local/lib/python3.11/dist-packages (from beautifulsoup4->unstructured[pdf]) (2.6)\n",
            "Collecting marshmallow<4.0.0,>=3.18.0 (from dataclasses-json->unstructured[pdf])\n",
            "  Downloading marshmallow-3.26.0-py3-none-any.whl.metadata (7.3 kB)\n",
            "Collecting typing-inspect<1,>=0.4.0 (from dataclasses-json->unstructured[pdf])\n",
            "  Downloading typing_inspect-0.9.0-py3-none-any.whl.metadata (1.5 kB)\n",
            "Requirement already satisfied: torchvision in /usr/local/lib/python3.11/dist-packages (from effdet->unstructured[pdf]) (0.20.1+cu124)\n",
            "Requirement already satisfied: pycocotools>=2.0.2 in /usr/local/lib/python3.11/dist-packages (from effdet->unstructured[pdf]) (2.0.8)\n",
            "Collecting omegaconf>=2.0 (from effdet->unstructured[pdf])\n",
            "  Downloading omegaconf-2.3.0-py3-none-any.whl.metadata (3.9 kB)\n",
            "Requirement already satisfied: google-api-core!=2.0.*,!=2.1.*,!=2.10.*,!=2.2.*,!=2.3.*,!=2.4.*,!=2.5.*,!=2.6.*,!=2.7.*,!=2.8.*,!=2.9.*,<3.0.0dev,>=1.34.1 in /usr/local/lib/python3.11/dist-packages (from google-api-core[grpc]!=2.0.*,!=2.1.*,!=2.10.*,!=2.2.*,!=2.3.*,!=2.4.*,!=2.5.*,!=2.6.*,!=2.7.*,!=2.8.*,!=2.9.*,<3.0.0dev,>=1.34.1->google-cloud-vision->unstructured[pdf]) (2.19.2)\n",
            "Requirement already satisfied: google-auth!=2.24.0,!=2.25.0,<3.0.0dev,>=2.14.1 in /usr/local/lib/python3.11/dist-packages (from google-cloud-vision->unstructured[pdf]) (2.27.0)\n",
            "Requirement already satisfied: proto-plus<2.0.0dev,>=1.22.3 in /usr/local/lib/python3.11/dist-packages (from google-cloud-vision->unstructured[pdf]) (1.26.0)\n",
            "Requirement already satisfied: protobuf!=4.21.0,!=4.21.1,!=4.21.2,!=4.21.3,!=4.21.4,!=4.21.5,<6.0.0dev,>=3.20.2 in /usr/local/lib/python3.11/dist-packages (from google-cloud-vision->unstructured[pdf]) (4.25.6)\n",
            "Requirement already satisfied: six>=1.9 in /usr/local/lib/python3.11/dist-packages (from html5lib->unstructured[pdf]) (1.17.0)\n",
            "Requirement already satisfied: webencodings in /usr/local/lib/python3.11/dist-packages (from html5lib->unstructured[pdf]) (0.5.1)\n",
            "Requirement already satisfied: click in /usr/local/lib/python3.11/dist-packages (from nltk->unstructured[pdf]) (8.1.8)\n",
            "Requirement already satisfied: joblib in /usr/local/lib/python3.11/dist-packages (from nltk->unstructured[pdf]) (1.4.2)\n",
            "Requirement already satisfied: regex>=2021.8.3 in /usr/local/lib/python3.11/dist-packages (from nltk->unstructured[pdf]) (2024.11.6)\n",
            "Requirement already satisfied: Deprecated in /usr/local/lib/python3.11/dist-packages (from pikepdf->unstructured[pdf]) (1.2.18)\n",
            "Collecting olefile (from python-oxmsg->unstructured[pdf])\n",
            "  Downloading olefile-0.47-py2.py3-none-any.whl.metadata (9.7 kB)\n",
            "Requirement already satisfied: idna<4,>=2.5 in /usr/local/lib/python3.11/dist-packages (from requests->unstructured[pdf]) (3.10)\n",
            "Requirement already satisfied: urllib3<3,>=1.21.1 in /usr/local/lib/python3.11/dist-packages (from requests->unstructured[pdf]) (2.3.0)\n",
            "Requirement already satisfied: certifi>=2017.4.17 in /usr/local/lib/python3.11/dist-packages (from requests->unstructured[pdf]) (2024.12.14)\n",
            "Collecting aiofiles>=24.1.0 (from unstructured-client->unstructured[pdf])\n",
            "  Downloading aiofiles-24.1.0-py3-none-any.whl.metadata (10 kB)\n",
            "Requirement already satisfied: eval-type-backport<0.3.0,>=0.2.0 in /usr/local/lib/python3.11/dist-packages (from unstructured-client->unstructured[pdf]) (0.2.2)\n",
            "Requirement already satisfied: httpx>=0.27.0 in /usr/local/lib/python3.11/dist-packages (from unstructured-client->unstructured[pdf]) (0.28.1)\n",
            "Collecting jsonpath-python<2.0.0,>=1.0.6 (from unstructured-client->unstructured[pdf])\n",
            "  Downloading jsonpath_python-1.0.6-py3-none-any.whl.metadata (12 kB)\n",
            "Requirement already satisfied: nest-asyncio>=1.6.0 in /usr/local/lib/python3.11/dist-packages (from unstructured-client->unstructured[pdf]) (1.6.0)\n",
            "Requirement already satisfied: pydantic<2.11.0,>=2.10.3 in /usr/local/lib/python3.11/dist-packages (from unstructured-client->unstructured[pdf]) (2.10.6)\n",
            "Requirement already satisfied: python-dateutil<3.0.0,>=2.8.2 in /usr/local/lib/python3.11/dist-packages (from unstructured-client->unstructured[pdf]) (2.8.2)\n",
            "Requirement already satisfied: requests-toolbelt>=1.0.0 in /usr/local/lib/python3.11/dist-packages (from unstructured-client->unstructured[pdf]) (1.0.0)\n",
            "Requirement already satisfied: cffi>=1.12 in /usr/local/lib/python3.11/dist-packages (from cryptography>=36.0.0->pdfminer.six->unstructured[pdf]) (1.17.1)\n",
            "Requirement already satisfied: googleapis-common-protos<2.0.dev0,>=1.56.2 in /usr/local/lib/python3.11/dist-packages (from google-api-core!=2.0.*,!=2.1.*,!=2.10.*,!=2.2.*,!=2.3.*,!=2.4.*,!=2.5.*,!=2.6.*,!=2.7.*,!=2.8.*,!=2.9.*,<3.0.0dev,>=1.34.1->google-api-core[grpc]!=2.0.*,!=2.1.*,!=2.10.*,!=2.2.*,!=2.3.*,!=2.4.*,!=2.5.*,!=2.6.*,!=2.7.*,!=2.8.*,!=2.9.*,<3.0.0dev,>=1.34.1->google-cloud-vision->unstructured[pdf]) (1.66.0)\n",
            "Requirement already satisfied: grpcio<2.0dev,>=1.33.2 in /usr/local/lib/python3.11/dist-packages (from google-api-core[grpc]!=2.0.*,!=2.1.*,!=2.10.*,!=2.2.*,!=2.3.*,!=2.4.*,!=2.5.*,!=2.6.*,!=2.7.*,!=2.8.*,!=2.9.*,<3.0.0dev,>=1.34.1->google-cloud-vision->unstructured[pdf]) (1.70.0)\n",
            "Requirement already satisfied: grpcio-status<2.0.dev0,>=1.33.2 in /usr/local/lib/python3.11/dist-packages (from google-api-core[grpc]!=2.0.*,!=2.1.*,!=2.10.*,!=2.2.*,!=2.3.*,!=2.4.*,!=2.5.*,!=2.6.*,!=2.7.*,!=2.8.*,!=2.9.*,<3.0.0dev,>=1.34.1->google-cloud-vision->unstructured[pdf]) (1.62.3)\n",
            "Requirement already satisfied: cachetools<6.0,>=2.0.0 in /usr/local/lib/python3.11/dist-packages (from google-auth!=2.24.0,!=2.25.0,<3.0.0dev,>=2.14.1->google-cloud-vision->unstructured[pdf]) (5.5.1)\n",
            "Requirement already satisfied: pyasn1-modules>=0.2.1 in /usr/local/lib/python3.11/dist-packages (from google-auth!=2.24.0,!=2.25.0,<3.0.0dev,>=2.14.1->google-cloud-vision->unstructured[pdf]) (0.4.1)\n",
            "Requirement already satisfied: rsa<5,>=3.1.4 in /usr/local/lib/python3.11/dist-packages (from google-auth!=2.24.0,!=2.25.0,<3.0.0dev,>=2.14.1->google-cloud-vision->unstructured[pdf]) (4.9)\n",
            "Requirement already satisfied: anyio in /usr/local/lib/python3.11/dist-packages (from httpx>=0.27.0->unstructured-client->unstructured[pdf]) (3.7.1)\n",
            "Requirement already satisfied: httpcore==1.* in /usr/local/lib/python3.11/dist-packages (from httpx>=0.27.0->unstructured-client->unstructured[pdf]) (1.0.7)\n",
            "Requirement already satisfied: h11<0.15,>=0.13 in /usr/local/lib/python3.11/dist-packages (from httpcore==1.*->httpx>=0.27.0->unstructured-client->unstructured[pdf]) (0.14.0)\n",
            "Collecting antlr4-python3-runtime==4.9.* (from omegaconf>=2.0->effdet->unstructured[pdf])\n",
            "  Downloading antlr4-python3-runtime-4.9.3.tar.gz (117 kB)\n",
            "\u001b[2K     \u001b[90m━━━━━━━━━━━━━━━━━━━━━━━━━━━━━━━━━━━━━━━━\u001b[0m \u001b[32m117.0/117.0 kB\u001b[0m \u001b[31m8.3 MB/s\u001b[0m eta \u001b[36m0:00:00\u001b[0m\n",
            "\u001b[?25h  Preparing metadata (setup.py) ... \u001b[?25l\u001b[?25hdone\n",
            "Requirement already satisfied: PyYAML>=5.1.0 in /usr/local/lib/python3.11/dist-packages (from omegaconf>=2.0->effdet->unstructured[pdf]) (6.0.2)\n",
            "Collecting coloredlogs (from onnxruntime>=1.17.0->unstructured-inference>=0.8.6->unstructured[pdf])\n",
            "  Downloading coloredlogs-15.0.1-py2.py3-none-any.whl.metadata (12 kB)\n",
            "Requirement already satisfied: flatbuffers in /usr/local/lib/python3.11/dist-packages (from onnxruntime>=1.17.0->unstructured-inference>=0.8.6->unstructured[pdf]) (25.1.24)\n",
            "Requirement already satisfied: sympy in /usr/local/lib/python3.11/dist-packages (from onnxruntime>=1.17.0->unstructured-inference>=0.8.6->unstructured[pdf]) (1.13.1)\n",
            "Requirement already satisfied: contourpy>=1.0.1 in /usr/local/lib/python3.11/dist-packages (from matplotlib->unstructured-inference>=0.8.6->unstructured[pdf]) (1.3.1)\n",
            "Requirement already satisfied: cycler>=0.10 in /usr/local/lib/python3.11/dist-packages (from matplotlib->unstructured-inference>=0.8.6->unstructured[pdf]) (0.12.1)\n",
            "Requirement already satisfied: fonttools>=4.22.0 in /usr/local/lib/python3.11/dist-packages (from matplotlib->unstructured-inference>=0.8.6->unstructured[pdf]) (4.55.7)\n",
            "Requirement already satisfied: kiwisolver>=1.3.1 in /usr/local/lib/python3.11/dist-packages (from matplotlib->unstructured-inference>=0.8.6->unstructured[pdf]) (1.4.8)\n",
            "Requirement already satisfied: pyparsing>=2.3.1 in /usr/local/lib/python3.11/dist-packages (from matplotlib->unstructured-inference>=0.8.6->unstructured[pdf]) (3.2.1)\n",
            "Requirement already satisfied: annotated-types>=0.6.0 in /usr/local/lib/python3.11/dist-packages (from pydantic<2.11.0,>=2.10.3->unstructured-client->unstructured[pdf]) (0.7.0)\n",
            "Requirement already satisfied: pydantic-core==2.27.2 in /usr/local/lib/python3.11/dist-packages (from pydantic<2.11.0,>=2.10.3->unstructured-client->unstructured[pdf]) (2.27.2)\n",
            "Requirement already satisfied: safetensors in /usr/local/lib/python3.11/dist-packages (from timm->unstructured-inference>=0.8.6->unstructured[pdf]) (0.5.2)\n",
            "Requirement already satisfied: filelock in /usr/local/lib/python3.11/dist-packages (from torch->unstructured-inference>=0.8.6->unstructured[pdf]) (3.17.0)\n",
            "Requirement already satisfied: networkx in /usr/local/lib/python3.11/dist-packages (from torch->unstructured-inference>=0.8.6->unstructured[pdf]) (3.4.2)\n",
            "Requirement already satisfied: jinja2 in /usr/local/lib/python3.11/dist-packages (from torch->unstructured-inference>=0.8.6->unstructured[pdf]) (3.1.5)\n",
            "Requirement already satisfied: fsspec in /usr/local/lib/python3.11/dist-packages (from torch->unstructured-inference>=0.8.6->unstructured[pdf]) (2024.10.0)\n",
            "Collecting nvidia-cuda-nvrtc-cu12==12.4.127 (from torch->unstructured-inference>=0.8.6->unstructured[pdf])\n",
            "  Downloading nvidia_cuda_nvrtc_cu12-12.4.127-py3-none-manylinux2014_x86_64.whl.metadata (1.5 kB)\n",
            "Collecting nvidia-cuda-runtime-cu12==12.4.127 (from torch->unstructured-inference>=0.8.6->unstructured[pdf])\n",
            "  Downloading nvidia_cuda_runtime_cu12-12.4.127-py3-none-manylinux2014_x86_64.whl.metadata (1.5 kB)\n",
            "Collecting nvidia-cuda-cupti-cu12==12.4.127 (from torch->unstructured-inference>=0.8.6->unstructured[pdf])\n",
            "  Downloading nvidia_cuda_cupti_cu12-12.4.127-py3-none-manylinux2014_x86_64.whl.metadata (1.6 kB)\n",
            "Collecting nvidia-cudnn-cu12==9.1.0.70 (from torch->unstructured-inference>=0.8.6->unstructured[pdf])\n",
            "  Downloading nvidia_cudnn_cu12-9.1.0.70-py3-none-manylinux2014_x86_64.whl.metadata (1.6 kB)\n",
            "Collecting nvidia-cublas-cu12==12.4.5.8 (from torch->unstructured-inference>=0.8.6->unstructured[pdf])\n",
            "  Downloading nvidia_cublas_cu12-12.4.5.8-py3-none-manylinux2014_x86_64.whl.metadata (1.5 kB)\n",
            "Collecting nvidia-cufft-cu12==11.2.1.3 (from torch->unstructured-inference>=0.8.6->unstructured[pdf])\n",
            "  Downloading nvidia_cufft_cu12-11.2.1.3-py3-none-manylinux2014_x86_64.whl.metadata (1.5 kB)\n",
            "Collecting nvidia-curand-cu12==10.3.5.147 (from torch->unstructured-inference>=0.8.6->unstructured[pdf])\n",
            "  Downloading nvidia_curand_cu12-10.3.5.147-py3-none-manylinux2014_x86_64.whl.metadata (1.5 kB)\n",
            "Collecting nvidia-cusolver-cu12==11.6.1.9 (from torch->unstructured-inference>=0.8.6->unstructured[pdf])\n",
            "  Downloading nvidia_cusolver_cu12-11.6.1.9-py3-none-manylinux2014_x86_64.whl.metadata (1.6 kB)\n",
            "Collecting nvidia-cusparse-cu12==12.3.1.170 (from torch->unstructured-inference>=0.8.6->unstructured[pdf])\n",
            "  Downloading nvidia_cusparse_cu12-12.3.1.170-py3-none-manylinux2014_x86_64.whl.metadata (1.6 kB)\n",
            "Requirement already satisfied: nvidia-nccl-cu12==2.21.5 in /usr/local/lib/python3.11/dist-packages (from torch->unstructured-inference>=0.8.6->unstructured[pdf]) (2.21.5)\n",
            "Requirement already satisfied: nvidia-nvtx-cu12==12.4.127 in /usr/local/lib/python3.11/dist-packages (from torch->unstructured-inference>=0.8.6->unstructured[pdf]) (12.4.127)\n",
            "Collecting nvidia-nvjitlink-cu12==12.4.127 (from torch->unstructured-inference>=0.8.6->unstructured[pdf])\n",
            "  Downloading nvidia_nvjitlink_cu12-12.4.127-py3-none-manylinux2014_x86_64.whl.metadata (1.5 kB)\n",
            "Requirement already satisfied: triton==3.1.0 in /usr/local/lib/python3.11/dist-packages (from torch->unstructured-inference>=0.8.6->unstructured[pdf]) (3.1.0)\n",
            "Requirement already satisfied: mpmath<1.4,>=1.1.0 in /usr/local/lib/python3.11/dist-packages (from sympy->onnxruntime>=1.17.0->unstructured-inference>=0.8.6->unstructured[pdf]) (1.3.0)\n",
            "Requirement already satisfied: tokenizers<0.22,>=0.21 in /usr/local/lib/python3.11/dist-packages (from transformers>=4.25.1->unstructured-inference>=0.8.6->unstructured[pdf]) (0.21.0)\n",
            "Collecting mypy-extensions>=0.3.0 (from typing-inspect<1,>=0.4.0->dataclasses-json->unstructured[pdf])\n",
            "  Downloading mypy_extensions-1.0.0-py3-none-any.whl.metadata (1.1 kB)\n",
            "Requirement already satisfied: pytz>=2020.1 in /usr/local/lib/python3.11/dist-packages (from pandas->unstructured-inference>=0.8.6->unstructured[pdf]) (2024.2)\n",
            "Requirement already satisfied: tzdata>=2022.7 in /usr/local/lib/python3.11/dist-packages (from pandas->unstructured-inference>=0.8.6->unstructured[pdf]) (2025.1)\n",
            "Requirement already satisfied: pycparser in /usr/local/lib/python3.11/dist-packages (from cffi>=1.12->cryptography>=36.0.0->pdfminer.six->unstructured[pdf]) (2.22)\n",
            "Requirement already satisfied: pyasn1<0.7.0,>=0.4.6 in /usr/local/lib/python3.11/dist-packages (from pyasn1-modules>=0.2.1->google-auth!=2.24.0,!=2.25.0,<3.0.0dev,>=2.14.1->google-cloud-vision->unstructured[pdf]) (0.6.1)\n",
            "Requirement already satisfied: sniffio>=1.1 in /usr/local/lib/python3.11/dist-packages (from anyio->httpx>=0.27.0->unstructured-client->unstructured[pdf]) (1.3.1)\n",
            "Collecting humanfriendly>=9.1 (from coloredlogs->onnxruntime>=1.17.0->unstructured-inference>=0.8.6->unstructured[pdf])\n",
            "  Downloading humanfriendly-10.0-py2.py3-none-any.whl.metadata (9.2 kB)\n",
            "Requirement already satisfied: MarkupSafe>=2.0 in /usr/local/lib/python3.11/dist-packages (from jinja2->torch->unstructured-inference>=0.8.6->unstructured[pdf]) (3.0.2)\n",
            "Downloading unstructured_inference-0.8.6-py3-none-any.whl (48 kB)\n",
            "\u001b[2K   \u001b[90m━━━━━━━━━━━━━━━━━━━━━━━━━━━━━━━━━━━━━━━━\u001b[0m \u001b[32m48.8/48.8 kB\u001b[0m \u001b[31m2.4 MB/s\u001b[0m eta \u001b[36m0:00:00\u001b[0m\n",
            "\u001b[?25hDownloading pdfminer.six-20240706-py3-none-any.whl (5.6 MB)\n",
            "\u001b[2K   \u001b[90m━━━━━━━━━━━━━━━━━━━━━━━━━━━━━━━━━━━━━━━━\u001b[0m \u001b[32m5.6/5.6 MB\u001b[0m \u001b[31m21.7 MB/s\u001b[0m eta \u001b[36m0:00:00\u001b[0m\n",
            "\u001b[?25hDownloading unstructured.pytesseract-0.3.13-py3-none-any.whl (14 kB)\n",
            "Downloading backoff-2.2.1-py3-none-any.whl (15 kB)\n",
            "Downloading dataclasses_json-0.6.7-py3-none-any.whl (28 kB)\n",
            "Downloading effdet-0.4.1-py3-none-any.whl (112 kB)\n",
            "\u001b[2K   \u001b[90m━━━━━━━━━━━━━━━━━━━━━━━━━━━━━━━━━━━━━━━━\u001b[0m \u001b[32m112.5/112.5 kB\u001b[0m \u001b[31m4.6 MB/s\u001b[0m eta \u001b[36m0:00:00\u001b[0m\n",
            "\u001b[?25hDownloading emoji-2.14.1-py3-none-any.whl (590 kB)\n",
            "\u001b[2K   \u001b[90m━━━━━━━━━━━━━━━━━━━━━━━━━━━━━━━━━━━━━━━━\u001b[0m \u001b[32m590.6/590.6 kB\u001b[0m \u001b[31m14.1 MB/s\u001b[0m eta \u001b[36m0:00:00\u001b[0m\n",
            "\u001b[?25hDownloading filetype-1.2.0-py2.py3-none-any.whl (19 kB)\n",
            "Downloading google_cloud_vision-3.9.0-py2.py3-none-any.whl (514 kB)\n",
            "\u001b[2K   \u001b[90m━━━━━━━━━━━━━━━━━━━━━━━━━━━━━━━━━━━━━━━━\u001b[0m \u001b[32m514.6/514.6 kB\u001b[0m \u001b[31m18.4 MB/s\u001b[0m eta \u001b[36m0:00:00\u001b[0m\n",
            "\u001b[?25hDownloading onnx-1.17.0-cp311-cp311-manylinux_2_17_x86_64.manylinux2014_x86_64.whl (16.0 MB)\n",
            "\u001b[2K   \u001b[90m━━━━━━━━━━━━━━━━━━━━━━━━━━━━━━━━━━━━━━━━\u001b[0m \u001b[32m16.0/16.0 MB\u001b[0m \u001b[31m32.0 MB/s\u001b[0m eta \u001b[36m0:00:00\u001b[0m\n",
            "\u001b[?25hDownloading pdf2image-1.17.0-py3-none-any.whl (11 kB)\n",
            "Downloading pi_heif-0.21.0-cp311-cp311-manylinux_2_17_x86_64.manylinux2014_x86_64.whl (1.2 MB)\n",
            "\u001b[2K   \u001b[90m━━━━━━━━━━━━━━━━━━━━━━━━━━━━━━━━━━━━━━━━\u001b[0m \u001b[32m1.2/1.2 MB\u001b[0m \u001b[31m28.9 MB/s\u001b[0m eta \u001b[36m0:00:00\u001b[0m\n",
            "\u001b[?25hDownloading pikepdf-9.5.1-cp311-cp311-manylinux_2_17_x86_64.manylinux2014_x86_64.whl (2.4 MB)\n",
            "\u001b[2K   \u001b[90m━━━━━━━━━━━━━━━━━━━━━━━━━━━━━━━━━━━━━━━━\u001b[0m \u001b[32m2.4/2.4 MB\u001b[0m \u001b[31m23.5 MB/s\u001b[0m eta \u001b[36m0:00:00\u001b[0m\n",
            "\u001b[?25hDownloading pypdf-5.2.0-py3-none-any.whl (298 kB)\n",
            "\u001b[2K   \u001b[90m━━━━━━━━━━━━━━━━━━━━━━━━━━━━━━━━━━━━━━━━\u001b[0m \u001b[32m298.7/298.7 kB\u001b[0m \u001b[31m9.8 MB/s\u001b[0m eta \u001b[36m0:00:00\u001b[0m\n",
            "\u001b[?25hDownloading python_iso639-2025.1.28-py3-none-any.whl (166 kB)\n",
            "\u001b[2K   \u001b[90m━━━━━━━━━━━━━━━━━━━━━━━━━━━━━━━━━━━━━━━━\u001b[0m \u001b[32m166.8/166.8 kB\u001b[0m \u001b[31m10.2 MB/s\u001b[0m eta \u001b[36m0:00:00\u001b[0m\n",
            "\u001b[?25hDownloading python_magic-0.4.27-py2.py3-none-any.whl (13 kB)\n",
            "Downloading python_oxmsg-0.0.1-py3-none-any.whl (31 kB)\n",
            "Downloading rapidfuzz-3.12.1-cp311-cp311-manylinux_2_17_x86_64.manylinux2014_x86_64.whl (3.1 MB)\n",
            "\u001b[2K   \u001b[90m━━━━━━━━━━━━━━━━━━━━━━━━━━━━━━━━━━━━━━━━\u001b[0m \u001b[32m3.1/3.1 MB\u001b[0m \u001b[31m32.7 MB/s\u001b[0m eta \u001b[36m0:00:00\u001b[0m\n",
            "\u001b[?25hDownloading unstructured-0.16.17-py3-none-any.whl (1.8 MB)\n",
            "\u001b[2K   \u001b[90m━━━━━━━━━━━━━━━━━━━━━━━━━━━━━━━━━━━━━━━━\u001b[0m \u001b[32m1.8/1.8 MB\u001b[0m \u001b[31m33.6 MB/s\u001b[0m eta \u001b[36m0:00:00\u001b[0m\n",
            "\u001b[?25hDownloading unstructured_client-0.29.0-py3-none-any.whl (63 kB)\n",
            "\u001b[2K   \u001b[90m━━━━━━━━━━━━━━━━━━━━━━━━━━━━━━━━━━━━━━━━\u001b[0m \u001b[32m63.6/63.6 kB\u001b[0m \u001b[31m3.2 MB/s\u001b[0m eta \u001b[36m0:00:00\u001b[0m\n",
            "\u001b[?25hDownloading aiofiles-24.1.0-py3-none-any.whl (15 kB)\n",
            "Downloading jsonpath_python-1.0.6-py3-none-any.whl (7.6 kB)\n",
            "Downloading marshmallow-3.26.0-py3-none-any.whl (50 kB)\n",
            "\u001b[2K   \u001b[90m━━━━━━━━━━━━━━━━━━━━━━━━━━━━━━━━━━━━━━━━\u001b[0m \u001b[32m50.8/50.8 kB\u001b[0m \u001b[31m3.3 MB/s\u001b[0m eta \u001b[36m0:00:00\u001b[0m\n",
            "\u001b[?25hDownloading omegaconf-2.3.0-py3-none-any.whl (79 kB)\n",
            "\u001b[2K   \u001b[90m━━━━━━━━━━━━━━━━━━━━━━━━━━━━━━━━━━━━━━━━\u001b[0m \u001b[32m79.5/79.5 kB\u001b[0m \u001b[31m3.9 MB/s\u001b[0m eta \u001b[36m0:00:00\u001b[0m\n",
            "\u001b[?25hDownloading onnxruntime-1.20.1-cp311-cp311-manylinux_2_27_x86_64.manylinux_2_28_x86_64.whl (13.3 MB)\n",
            "\u001b[2K   \u001b[90m━━━━━━━━━━━━━━━━━━━━━━━━━━━━━━━━━━━━━━━━\u001b[0m \u001b[32m13.3/13.3 MB\u001b[0m \u001b[31m34.0 MB/s\u001b[0m eta \u001b[36m0:00:00\u001b[0m\n",
            "\u001b[?25hDownloading nvidia_cublas_cu12-12.4.5.8-py3-none-manylinux2014_x86_64.whl (363.4 MB)\n",
            "\u001b[2K   \u001b[90m━━━━━━━━━━━━━━━━━━━━━━━━━━━━━━━━━━━━━━━━\u001b[0m \u001b[32m363.4/363.4 MB\u001b[0m \u001b[31m4.4 MB/s\u001b[0m eta \u001b[36m0:00:00\u001b[0m\n",
            "\u001b[?25hDownloading nvidia_cuda_cupti_cu12-12.4.127-py3-none-manylinux2014_x86_64.whl (13.8 MB)\n",
            "\u001b[2K   \u001b[90m━━━━━━━━━━━━━━━━━━━━━━━━━━━━━━━━━━━━━━━━\u001b[0m \u001b[32m13.8/13.8 MB\u001b[0m \u001b[31m92.2 MB/s\u001b[0m eta \u001b[36m0:00:00\u001b[0m\n",
            "\u001b[?25hDownloading nvidia_cuda_nvrtc_cu12-12.4.127-py3-none-manylinux2014_x86_64.whl (24.6 MB)\n",
            "\u001b[2K   \u001b[90m━━━━━━━━━━━━━━━━━━━━━━━━━━━━━━━━━━━━━━━━\u001b[0m \u001b[32m24.6/24.6 MB\u001b[0m \u001b[31m70.0 MB/s\u001b[0m eta \u001b[36m0:00:00\u001b[0m\n",
            "\u001b[?25hDownloading nvidia_cuda_runtime_cu12-12.4.127-py3-none-manylinux2014_x86_64.whl (883 kB)\n",
            "\u001b[2K   \u001b[90m━━━━━━━━━━━━━━━━━━━━━━━━━━━━━━━━━━━━━━━━\u001b[0m \u001b[32m883.7/883.7 kB\u001b[0m \u001b[31m42.5 MB/s\u001b[0m eta \u001b[36m0:00:00\u001b[0m\n",
            "\u001b[?25hDownloading nvidia_cudnn_cu12-9.1.0.70-py3-none-manylinux2014_x86_64.whl (664.8 MB)\n",
            "\u001b[2K   \u001b[90m━━━━━━━━━━━━━━━━━━━━━━━━━━━━━━━━━━━━━━━━\u001b[0m \u001b[32m664.8/664.8 MB\u001b[0m \u001b[31m2.5 MB/s\u001b[0m eta \u001b[36m0:00:00\u001b[0m\n",
            "\u001b[?25hDownloading nvidia_cufft_cu12-11.2.1.3-py3-none-manylinux2014_x86_64.whl (211.5 MB)\n",
            "\u001b[2K   \u001b[90m━━━━━━━━━━━━━━━━━━━━━━━━━━━━━━━━━━━━━━━━\u001b[0m \u001b[32m211.5/211.5 MB\u001b[0m \u001b[31m1.9 MB/s\u001b[0m eta \u001b[36m0:00:00\u001b[0m\n",
            "\u001b[?25hDownloading nvidia_curand_cu12-10.3.5.147-py3-none-manylinux2014_x86_64.whl (56.3 MB)\n",
            "\u001b[2K   \u001b[90m━━━━━━━━━━━━━━━━━━━━━━━━━━━━━━━━━━━━━━━━\u001b[0m \u001b[32m56.3/56.3 MB\u001b[0m \u001b[31m11.5 MB/s\u001b[0m eta \u001b[36m0:00:00\u001b[0m\n",
            "\u001b[?25hDownloading nvidia_cusolver_cu12-11.6.1.9-py3-none-manylinux2014_x86_64.whl (127.9 MB)\n",
            "\u001b[2K   \u001b[90m━━━━━━━━━━━━━━━━━━━━━━━━━━━━━━━━━━━━━━━━\u001b[0m \u001b[32m127.9/127.9 MB\u001b[0m \u001b[31m7.3 MB/s\u001b[0m eta \u001b[36m0:00:00\u001b[0m\n",
            "\u001b[?25hDownloading nvidia_cusparse_cu12-12.3.1.170-py3-none-manylinux2014_x86_64.whl (207.5 MB)\n",
            "\u001b[2K   \u001b[90m━━━━━━━━━━━━━━━━━━━━━━━━━━━━━━━━━━━━━━━━\u001b[0m \u001b[32m207.5/207.5 MB\u001b[0m \u001b[31m5.6 MB/s\u001b[0m eta \u001b[36m0:00:00\u001b[0m\n",
            "\u001b[?25hDownloading nvidia_nvjitlink_cu12-12.4.127-py3-none-manylinux2014_x86_64.whl (21.1 MB)\n",
            "\u001b[2K   \u001b[90m━━━━━━━━━━━━━━━━━━━━━━━━━━━━━━━━━━━━━━━━\u001b[0m \u001b[32m21.1/21.1 MB\u001b[0m \u001b[31m49.6 MB/s\u001b[0m eta \u001b[36m0:00:00\u001b[0m\n",
            "\u001b[?25hDownloading typing_inspect-0.9.0-py3-none-any.whl (8.8 kB)\n",
            "Downloading olefile-0.47-py2.py3-none-any.whl (114 kB)\n",
            "\u001b[2K   \u001b[90m━━━━━━━━━━━━━━━━━━━━━━━━━━━━━━━━━━━━━━━━\u001b[0m \u001b[32m114.6/114.6 kB\u001b[0m \u001b[31m8.5 MB/s\u001b[0m eta \u001b[36m0:00:00\u001b[0m\n",
            "\u001b[?25hDownloading pypdfium2-4.30.1-py3-none-manylinux_2_17_x86_64.manylinux2014_x86_64.whl (2.9 MB)\n",
            "\u001b[2K   \u001b[90m━━━━━━━━━━━━━━━━━━━━━━━━━━━━━━━━━━━━━━━━\u001b[0m \u001b[32m2.9/2.9 MB\u001b[0m \u001b[31m57.8 MB/s\u001b[0m eta \u001b[36m0:00:00\u001b[0m\n",
            "\u001b[?25hDownloading python_multipart-0.0.20-py3-none-any.whl (24 kB)\n",
            "Downloading mypy_extensions-1.0.0-py3-none-any.whl (4.7 kB)\n",
            "Downloading coloredlogs-15.0.1-py2.py3-none-any.whl (46 kB)\n",
            "\u001b[2K   \u001b[90m━━━━━━━━━━━━━━━━━━━━━━━━━━━━━━━━━━━━━━━━\u001b[0m \u001b[32m46.0/46.0 kB\u001b[0m \u001b[31m3.4 MB/s\u001b[0m eta \u001b[36m0:00:00\u001b[0m\n",
            "\u001b[?25hDownloading humanfriendly-10.0-py2.py3-none-any.whl (86 kB)\n",
            "\u001b[2K   \u001b[90m━━━━━━━━━━━━━━━━━━━━━━━━━━━━━━━━━━━━━━━━\u001b[0m \u001b[32m86.8/86.8 kB\u001b[0m \u001b[31m6.4 MB/s\u001b[0m eta \u001b[36m0:00:00\u001b[0m\n",
            "\u001b[?25hBuilding wheels for collected packages: langdetect, antlr4-python3-runtime\n",
            "  Building wheel for langdetect (setup.py) ... \u001b[?25l\u001b[?25hdone\n",
            "  Created wheel for langdetect: filename=langdetect-1.0.9-py3-none-any.whl size=993222 sha256=3fdfbcbf38500f414792a2d127fcf1ae50851bf89c3a7d49f8545082e27aa614\n",
            "  Stored in directory: /root/.cache/pip/wheels/0a/f2/b2/e5ca405801e05eb7c8ed5b3b4bcf1fcabcd6272c167640072e\n",
            "  Building wheel for antlr4-python3-runtime (setup.py) ... \u001b[?25l\u001b[?25hdone\n",
            "  Created wheel for antlr4-python3-runtime: filename=antlr4_python3_runtime-4.9.3-py3-none-any.whl size=144555 sha256=d8d4085bb6b5603e667ff3e1c372dfe8634240fbc36df3e6cdec32b3e27e976b\n",
            "  Stored in directory: /root/.cache/pip/wheels/1a/97/32/461f837398029ad76911109f07047fde1d7b661a147c7c56d1\n",
            "Successfully built langdetect antlr4-python3-runtime\n",
            "Installing collected packages: filetype, antlr4-python3-runtime, unstructured.pytesseract, rapidfuzz, python-multipart, python-magic, python-iso639, pypdfium2, pypdf, pi-heif, pdf2image, onnx, omegaconf, olefile, nvidia-nvjitlink-cu12, nvidia-curand-cu12, nvidia-cufft-cu12, nvidia-cuda-runtime-cu12, nvidia-cuda-nvrtc-cu12, nvidia-cuda-cupti-cu12, nvidia-cublas-cu12, mypy-extensions, marshmallow, langdetect, jsonpath-python, humanfriendly, emoji, backoff, aiofiles, typing-inspect, python-oxmsg, pikepdf, nvidia-cusparse-cu12, nvidia-cudnn-cu12, coloredlogs, unstructured-client, pdfminer.six, onnxruntime, nvidia-cusolver-cu12, dataclasses-json, unstructured, google-cloud-vision, unstructured-inference, effdet\n",
            "  Attempting uninstall: nvidia-nvjitlink-cu12\n",
            "    Found existing installation: nvidia-nvjitlink-cu12 12.5.82\n",
            "    Uninstalling nvidia-nvjitlink-cu12-12.5.82:\n",
            "      Successfully uninstalled nvidia-nvjitlink-cu12-12.5.82\n",
            "  Attempting uninstall: nvidia-curand-cu12\n",
            "    Found existing installation: nvidia-curand-cu12 10.3.6.82\n",
            "    Uninstalling nvidia-curand-cu12-10.3.6.82:\n",
            "      Successfully uninstalled nvidia-curand-cu12-10.3.6.82\n",
            "  Attempting uninstall: nvidia-cufft-cu12\n",
            "    Found existing installation: nvidia-cufft-cu12 11.2.3.61\n",
            "    Uninstalling nvidia-cufft-cu12-11.2.3.61:\n",
            "      Successfully uninstalled nvidia-cufft-cu12-11.2.3.61\n",
            "  Attempting uninstall: nvidia-cuda-runtime-cu12\n",
            "    Found existing installation: nvidia-cuda-runtime-cu12 12.5.82\n",
            "    Uninstalling nvidia-cuda-runtime-cu12-12.5.82:\n",
            "      Successfully uninstalled nvidia-cuda-runtime-cu12-12.5.82\n",
            "  Attempting uninstall: nvidia-cuda-nvrtc-cu12\n",
            "    Found existing installation: nvidia-cuda-nvrtc-cu12 12.5.82\n",
            "    Uninstalling nvidia-cuda-nvrtc-cu12-12.5.82:\n",
            "      Successfully uninstalled nvidia-cuda-nvrtc-cu12-12.5.82\n",
            "  Attempting uninstall: nvidia-cuda-cupti-cu12\n",
            "    Found existing installation: nvidia-cuda-cupti-cu12 12.5.82\n",
            "    Uninstalling nvidia-cuda-cupti-cu12-12.5.82:\n",
            "      Successfully uninstalled nvidia-cuda-cupti-cu12-12.5.82\n",
            "  Attempting uninstall: nvidia-cublas-cu12\n",
            "    Found existing installation: nvidia-cublas-cu12 12.5.3.2\n",
            "    Uninstalling nvidia-cublas-cu12-12.5.3.2:\n",
            "      Successfully uninstalled nvidia-cublas-cu12-12.5.3.2\n",
            "  Attempting uninstall: nvidia-cusparse-cu12\n",
            "    Found existing installation: nvidia-cusparse-cu12 12.5.1.3\n",
            "    Uninstalling nvidia-cusparse-cu12-12.5.1.3:\n",
            "      Successfully uninstalled nvidia-cusparse-cu12-12.5.1.3\n",
            "  Attempting uninstall: nvidia-cudnn-cu12\n",
            "    Found existing installation: nvidia-cudnn-cu12 9.3.0.75\n",
            "    Uninstalling nvidia-cudnn-cu12-9.3.0.75:\n",
            "      Successfully uninstalled nvidia-cudnn-cu12-9.3.0.75\n",
            "  Attempting uninstall: nvidia-cusolver-cu12\n",
            "    Found existing installation: nvidia-cusolver-cu12 11.6.3.83\n",
            "    Uninstalling nvidia-cusolver-cu12-11.6.3.83:\n",
            "      Successfully uninstalled nvidia-cusolver-cu12-11.6.3.83\n",
            "Successfully installed aiofiles-24.1.0 antlr4-python3-runtime-4.9.3 backoff-2.2.1 coloredlogs-15.0.1 dataclasses-json-0.6.7 effdet-0.4.1 emoji-2.14.1 filetype-1.2.0 google-cloud-vision-3.9.0 humanfriendly-10.0 jsonpath-python-1.0.6 langdetect-1.0.9 marshmallow-3.26.0 mypy-extensions-1.0.0 nvidia-cublas-cu12-12.4.5.8 nvidia-cuda-cupti-cu12-12.4.127 nvidia-cuda-nvrtc-cu12-12.4.127 nvidia-cuda-runtime-cu12-12.4.127 nvidia-cudnn-cu12-9.1.0.70 nvidia-cufft-cu12-11.2.1.3 nvidia-curand-cu12-10.3.5.147 nvidia-cusolver-cu12-11.6.1.9 nvidia-cusparse-cu12-12.3.1.170 nvidia-nvjitlink-cu12-12.4.127 olefile-0.47 omegaconf-2.3.0 onnx-1.17.0 onnxruntime-1.20.1 pdf2image-1.17.0 pdfminer.six-20240706 pi-heif-0.21.0 pikepdf-9.5.1 pypdf-5.2.0 pypdfium2-4.30.1 python-iso639-2025.1.28 python-magic-0.4.27 python-multipart-0.0.20 python-oxmsg-0.0.1 rapidfuzz-3.12.1 typing-inspect-0.9.0 unstructured-0.16.17 unstructured-client-0.29.0 unstructured-inference-0.8.6 unstructured.pytesseract-0.3.13\n"
          ]
        },
        {
          "output_type": "display_data",
          "data": {
            "application/vnd.colab-display-data+json": {
              "pip_warning": {
                "packages": [
                  "google",
                  "pydevd_plugins"
                ]
              },
              "id": "002b7fb68c2843e9a9a957957fc6b087"
            }
          },
          "metadata": {}
        }
      ]
    },
    {
      "cell_type": "code",
      "source": [
        "!apt-get install -y tesseract-ocr\n",
        "!pip install pytesseract"
      ],
      "metadata": {
        "colab": {
          "base_uri": "https://localhost:8080/"
        },
        "collapsed": true,
        "id": "KUECUroP-SLg",
        "outputId": "9efb5fe8-00e8-404d-c920-34402cfcd70c"
      },
      "execution_count": 4,
      "outputs": [
        {
          "output_type": "stream",
          "name": "stdout",
          "text": [
            "Reading package lists... Done\n",
            "Building dependency tree... Done\n",
            "Reading state information... Done\n",
            "The following additional packages will be installed:\n",
            "  tesseract-ocr-eng tesseract-ocr-osd\n",
            "The following NEW packages will be installed:\n",
            "  tesseract-ocr tesseract-ocr-eng tesseract-ocr-osd\n",
            "0 upgraded, 3 newly installed, 0 to remove and 18 not upgraded.\n",
            "Need to get 4,816 kB of archives.\n",
            "After this operation, 15.6 MB of additional disk space will be used.\n",
            "Get:1 http://archive.ubuntu.com/ubuntu jammy/universe amd64 tesseract-ocr-eng all 1:4.00~git30-7274cfa-1.1 [1,591 kB]\n",
            "Get:2 http://archive.ubuntu.com/ubuntu jammy/universe amd64 tesseract-ocr-osd all 1:4.00~git30-7274cfa-1.1 [2,990 kB]\n",
            "Get:3 http://archive.ubuntu.com/ubuntu jammy/universe amd64 tesseract-ocr amd64 4.1.1-2.1build1 [236 kB]\n",
            "Fetched 4,816 kB in 2s (2,621 kB/s)\n",
            "Selecting previously unselected package tesseract-ocr-eng.\n",
            "(Reading database ... 124950 files and directories currently installed.)\n",
            "Preparing to unpack .../tesseract-ocr-eng_1%3a4.00~git30-7274cfa-1.1_all.deb ...\n",
            "Unpacking tesseract-ocr-eng (1:4.00~git30-7274cfa-1.1) ...\n",
            "Selecting previously unselected package tesseract-ocr-osd.\n",
            "Preparing to unpack .../tesseract-ocr-osd_1%3a4.00~git30-7274cfa-1.1_all.deb ...\n",
            "Unpacking tesseract-ocr-osd (1:4.00~git30-7274cfa-1.1) ...\n",
            "Selecting previously unselected package tesseract-ocr.\n",
            "Preparing to unpack .../tesseract-ocr_4.1.1-2.1build1_amd64.deb ...\n",
            "Unpacking tesseract-ocr (4.1.1-2.1build1) ...\n",
            "Setting up tesseract-ocr-eng (1:4.00~git30-7274cfa-1.1) ...\n",
            "Setting up tesseract-ocr-osd (1:4.00~git30-7274cfa-1.1) ...\n",
            "Setting up tesseract-ocr (4.1.1-2.1build1) ...\n",
            "Processing triggers for man-db (2.10.2-1) ...\n",
            "Collecting pytesseract\n",
            "  Downloading pytesseract-0.3.13-py3-none-any.whl.metadata (11 kB)\n",
            "Requirement already satisfied: packaging>=21.3 in /usr/local/lib/python3.11/dist-packages (from pytesseract) (24.2)\n",
            "Requirement already satisfied: Pillow>=8.0.0 in /usr/local/lib/python3.11/dist-packages (from pytesseract) (11.1.0)\n",
            "Downloading pytesseract-0.3.13-py3-none-any.whl (14 kB)\n",
            "Installing collected packages: pytesseract\n",
            "Successfully installed pytesseract-0.3.13\n"
          ]
        }
      ]
    },
    {
      "cell_type": "code",
      "source": [
        "!apt-get install -y poppler-utils"
      ],
      "metadata": {
        "colab": {
          "base_uri": "https://localhost:8080/"
        },
        "collapsed": true,
        "id": "Xyfnl1w1q_HN",
        "outputId": "b1b70592-f8be-4969-dd9c-85497b0bd980"
      },
      "execution_count": 5,
      "outputs": [
        {
          "output_type": "stream",
          "name": "stdout",
          "text": [
            "Reading package lists... Done\n",
            "Building dependency tree... Done\n",
            "Reading state information... Done\n",
            "The following NEW packages will be installed:\n",
            "  poppler-utils\n",
            "0 upgraded, 1 newly installed, 0 to remove and 18 not upgraded.\n",
            "Need to get 186 kB of archives.\n",
            "After this operation, 696 kB of additional disk space will be used.\n",
            "Get:1 http://archive.ubuntu.com/ubuntu jammy-updates/main amd64 poppler-utils amd64 22.02.0-2ubuntu0.6 [186 kB]\n",
            "Fetched 186 kB in 1s (205 kB/s)\n",
            "Selecting previously unselected package poppler-utils.\n",
            "(Reading database ... 124997 files and directories currently installed.)\n",
            "Preparing to unpack .../poppler-utils_22.02.0-2ubuntu0.6_amd64.deb ...\n",
            "Unpacking poppler-utils (22.02.0-2ubuntu0.6) ...\n",
            "Setting up poppler-utils (22.02.0-2ubuntu0.6) ...\n",
            "Processing triggers for man-db (2.10.2-1) ...\n"
          ]
        }
      ]
    },
    {
      "cell_type": "code",
      "source": [
        "from unstructured.partition.pdf import partition_pdf\n",
        "\n",
        "output_path = \"extracted_images_4\"\n",
        "file_path = 'sdn.pdf'\n",
        "\n",
        "chunks = partition_pdf(\n",
        "    filename=file_path,\n",
        "    infer_table_structure=True,\n",
        "    strategy=\"hi_res\",\n",
        "\n",
        "    extract_image_block_types=[\"Image\"],\n",
        "    image_output_dir_path=output_path,\n",
        "\n",
        "    extract_image_block_to_payload=False,  # Set this to False to save images as files\n",
        "\n",
        "    chunking_strategy=\"by_title\",\n",
        "    max_characters=10000,\n",
        "    combine_text_under_n_chars=2000,\n",
        "    new_after_n_chars=6000,\n",
        ")\n"
      ],
      "metadata": {
        "id": "Wce83est6wal"
      },
      "execution_count": 29,
      "outputs": []
    },
    {
      "cell_type": "code",
      "source": [
        "elements = chunks[3].metadata.orig_elements\n",
        "chunk_images = [el for el in elements if 'Image' in str(type(el))]\n",
        "chunk_images[0].to_dict()"
      ],
      "metadata": {
        "colab": {
          "base_uri": "https://localhost:8080/"
        },
        "id": "qEise5VQDIxl",
        "outputId": "def085c3-f36d-4cc2-d6f8-99ad7c1df542"
      },
      "execution_count": 30,
      "outputs": [
        {
          "output_type": "execute_result",
          "data": {
            "text/plain": [
              "{'type': 'Image',\n",
              " 'element_id': '299cc1fa-45c7-4689-89e1-9ea6081dfa6c',\n",
              " 'text': 'RF Base Incoming Data Meta Classifier - LR JoT Device DT e Le IH Le] Le IH Le] 7 22] 3 20ep0 Le Le] Le Le] Models Social ut Network Network ao Stacking Classifier Default “G7 c Le Le] Le Le] Mainframe Web lot SDN Network SDN Clustering',\n",
              " 'metadata': {'detection_class_prob': 0.927784264087677,\n",
              "  'coordinates': {'points': ((124.16901397705078, 162.52207946777344),\n",
              "    (124.16901397705078, 806.70458984375),\n",
              "    (1563.0244140625, 806.70458984375),\n",
              "    (1563.0244140625, 162.52207946777344)),\n",
              "   'system': 'PixelSpace',\n",
              "   'layout_width': 1654,\n",
              "   'layout_height': 2339},\n",
              "  'last_modified': '2025-02-01T06:30:23',\n",
              "  'filetype': 'PPM',\n",
              "  'languages': ['eng'],\n",
              "  'page_number': 3,\n",
              "  'image_path': '/content/figures/figure-3-1.jpg'}}"
            ]
          },
          "metadata": {},
          "execution_count": 30
        }
      ]
    },
    {
      "cell_type": "code",
      "source": [
        "pip install sentence-transformers faiss-cpu Pillow"
      ],
      "metadata": {
        "collapsed": true,
        "colab": {
          "base_uri": "https://localhost:8080/"
        },
        "id": "0vbJgxPvFi9F",
        "outputId": "174e4b28-2f7d-43df-acd8-7ae2c4f8d97b"
      },
      "execution_count": 9,
      "outputs": [
        {
          "output_type": "stream",
          "name": "stdout",
          "text": [
            "Requirement already satisfied: sentence-transformers in /usr/local/lib/python3.11/dist-packages (3.3.1)\n",
            "Collecting faiss-cpu\n",
            "  Downloading faiss_cpu-1.10.0-cp311-cp311-manylinux_2_28_x86_64.whl.metadata (4.4 kB)\n",
            "Requirement already satisfied: Pillow in /usr/local/lib/python3.11/dist-packages (11.1.0)\n",
            "Requirement already satisfied: transformers<5.0.0,>=4.41.0 in /usr/local/lib/python3.11/dist-packages (from sentence-transformers) (4.47.1)\n",
            "Requirement already satisfied: tqdm in /usr/local/lib/python3.11/dist-packages (from sentence-transformers) (4.67.1)\n",
            "Requirement already satisfied: torch>=1.11.0 in /usr/local/lib/python3.11/dist-packages (from sentence-transformers) (2.5.1+cu124)\n",
            "Requirement already satisfied: scikit-learn in /usr/local/lib/python3.11/dist-packages (from sentence-transformers) (1.6.1)\n",
            "Requirement already satisfied: scipy in /usr/local/lib/python3.11/dist-packages (from sentence-transformers) (1.13.1)\n",
            "Requirement already satisfied: huggingface-hub>=0.20.0 in /usr/local/lib/python3.11/dist-packages (from sentence-transformers) (0.27.1)\n",
            "Requirement already satisfied: numpy<3.0,>=1.25.0 in /usr/local/lib/python3.11/dist-packages (from faiss-cpu) (1.26.4)\n",
            "Requirement already satisfied: packaging in /usr/local/lib/python3.11/dist-packages (from faiss-cpu) (24.2)\n",
            "Requirement already satisfied: filelock in /usr/local/lib/python3.11/dist-packages (from huggingface-hub>=0.20.0->sentence-transformers) (3.17.0)\n",
            "Requirement already satisfied: fsspec>=2023.5.0 in /usr/local/lib/python3.11/dist-packages (from huggingface-hub>=0.20.0->sentence-transformers) (2024.10.0)\n",
            "Requirement already satisfied: pyyaml>=5.1 in /usr/local/lib/python3.11/dist-packages (from huggingface-hub>=0.20.0->sentence-transformers) (6.0.2)\n",
            "Requirement already satisfied: requests in /usr/local/lib/python3.11/dist-packages (from huggingface-hub>=0.20.0->sentence-transformers) (2.32.3)\n",
            "Requirement already satisfied: typing-extensions>=3.7.4.3 in /usr/local/lib/python3.11/dist-packages (from huggingface-hub>=0.20.0->sentence-transformers) (4.12.2)\n",
            "Requirement already satisfied: networkx in /usr/local/lib/python3.11/dist-packages (from torch>=1.11.0->sentence-transformers) (3.4.2)\n",
            "Requirement already satisfied: jinja2 in /usr/local/lib/python3.11/dist-packages (from torch>=1.11.0->sentence-transformers) (3.1.5)\n",
            "Requirement already satisfied: nvidia-cuda-nvrtc-cu12==12.4.127 in /usr/local/lib/python3.11/dist-packages (from torch>=1.11.0->sentence-transformers) (12.4.127)\n",
            "Requirement already satisfied: nvidia-cuda-runtime-cu12==12.4.127 in /usr/local/lib/python3.11/dist-packages (from torch>=1.11.0->sentence-transformers) (12.4.127)\n",
            "Requirement already satisfied: nvidia-cuda-cupti-cu12==12.4.127 in /usr/local/lib/python3.11/dist-packages (from torch>=1.11.0->sentence-transformers) (12.4.127)\n",
            "Requirement already satisfied: nvidia-cudnn-cu12==9.1.0.70 in /usr/local/lib/python3.11/dist-packages (from torch>=1.11.0->sentence-transformers) (9.1.0.70)\n",
            "Requirement already satisfied: nvidia-cublas-cu12==12.4.5.8 in /usr/local/lib/python3.11/dist-packages (from torch>=1.11.0->sentence-transformers) (12.4.5.8)\n",
            "Requirement already satisfied: nvidia-cufft-cu12==11.2.1.3 in /usr/local/lib/python3.11/dist-packages (from torch>=1.11.0->sentence-transformers) (11.2.1.3)\n",
            "Requirement already satisfied: nvidia-curand-cu12==10.3.5.147 in /usr/local/lib/python3.11/dist-packages (from torch>=1.11.0->sentence-transformers) (10.3.5.147)\n",
            "Requirement already satisfied: nvidia-cusolver-cu12==11.6.1.9 in /usr/local/lib/python3.11/dist-packages (from torch>=1.11.0->sentence-transformers) (11.6.1.9)\n",
            "Requirement already satisfied: nvidia-cusparse-cu12==12.3.1.170 in /usr/local/lib/python3.11/dist-packages (from torch>=1.11.0->sentence-transformers) (12.3.1.170)\n",
            "Requirement already satisfied: nvidia-nccl-cu12==2.21.5 in /usr/local/lib/python3.11/dist-packages (from torch>=1.11.0->sentence-transformers) (2.21.5)\n",
            "Requirement already satisfied: nvidia-nvtx-cu12==12.4.127 in /usr/local/lib/python3.11/dist-packages (from torch>=1.11.0->sentence-transformers) (12.4.127)\n",
            "Requirement already satisfied: nvidia-nvjitlink-cu12==12.4.127 in /usr/local/lib/python3.11/dist-packages (from torch>=1.11.0->sentence-transformers) (12.4.127)\n",
            "Requirement already satisfied: triton==3.1.0 in /usr/local/lib/python3.11/dist-packages (from torch>=1.11.0->sentence-transformers) (3.1.0)\n",
            "Requirement already satisfied: sympy==1.13.1 in /usr/local/lib/python3.11/dist-packages (from torch>=1.11.0->sentence-transformers) (1.13.1)\n",
            "Requirement already satisfied: mpmath<1.4,>=1.1.0 in /usr/local/lib/python3.11/dist-packages (from sympy==1.13.1->torch>=1.11.0->sentence-transformers) (1.3.0)\n",
            "Requirement already satisfied: regex!=2019.12.17 in /usr/local/lib/python3.11/dist-packages (from transformers<5.0.0,>=4.41.0->sentence-transformers) (2024.11.6)\n",
            "Requirement already satisfied: tokenizers<0.22,>=0.21 in /usr/local/lib/python3.11/dist-packages (from transformers<5.0.0,>=4.41.0->sentence-transformers) (0.21.0)\n",
            "Requirement already satisfied: safetensors>=0.4.1 in /usr/local/lib/python3.11/dist-packages (from transformers<5.0.0,>=4.41.0->sentence-transformers) (0.5.2)\n",
            "Requirement already satisfied: joblib>=1.2.0 in /usr/local/lib/python3.11/dist-packages (from scikit-learn->sentence-transformers) (1.4.2)\n",
            "Requirement already satisfied: threadpoolctl>=3.1.0 in /usr/local/lib/python3.11/dist-packages (from scikit-learn->sentence-transformers) (3.5.0)\n",
            "Requirement already satisfied: MarkupSafe>=2.0 in /usr/local/lib/python3.11/dist-packages (from jinja2->torch>=1.11.0->sentence-transformers) (3.0.2)\n",
            "Requirement already satisfied: charset-normalizer<4,>=2 in /usr/local/lib/python3.11/dist-packages (from requests->huggingface-hub>=0.20.0->sentence-transformers) (3.4.1)\n",
            "Requirement already satisfied: idna<4,>=2.5 in /usr/local/lib/python3.11/dist-packages (from requests->huggingface-hub>=0.20.0->sentence-transformers) (3.10)\n",
            "Requirement already satisfied: urllib3<3,>=1.21.1 in /usr/local/lib/python3.11/dist-packages (from requests->huggingface-hub>=0.20.0->sentence-transformers) (2.3.0)\n",
            "Requirement already satisfied: certifi>=2017.4.17 in /usr/local/lib/python3.11/dist-packages (from requests->huggingface-hub>=0.20.0->sentence-transformers) (2024.12.14)\n",
            "Downloading faiss_cpu-1.10.0-cp311-cp311-manylinux_2_28_x86_64.whl (30.7 MB)\n",
            "\u001b[2K   \u001b[90m━━━━━━━━━━━━━━━━━━━━━━━━━━━━━━━━━━━━━━━━\u001b[0m \u001b[32m30.7/30.7 MB\u001b[0m \u001b[31m54.8 MB/s\u001b[0m eta \u001b[36m0:00:00\u001b[0m\n",
            "\u001b[?25hInstalling collected packages: faiss-cpu\n",
            "Successfully installed faiss-cpu-1.10.0\n"
          ]
        }
      ]
    },
    {
      "cell_type": "code",
      "source": [
        "import os\n",
        "from PIL import Image\n",
        "import torch\n",
        "import faiss\n",
        "from sentence_transformers import SentenceTransformer\n",
        "\n",
        "# Load the CLIP model\n",
        "model = SentenceTransformer('clip-ViT-B-32')\n",
        "\n",
        "# Function to get image embeddings\n",
        "def get_image_embeddings(image_folder):\n",
        "    image_paths = []\n",
        "    embeddings = []\n",
        "\n",
        "    for filename in os.listdir(image_folder):\n",
        "        if filename.lower().endswith(('png', 'jpg', 'jpeg')):\n",
        "            image_path = os.path.join(image_folder, filename)\n",
        "            image_paths.append(image_path)\n",
        "\n",
        "            # Load and preprocess image\n",
        "            image = Image.open(image_path).convert(\"RGB\")\n",
        "            image_embedding = model.encode(image, convert_to_tensor=True)\n",
        "            embeddings.append(image_embedding)\n",
        "\n",
        "    return image_paths, torch.stack(embeddings).cpu().numpy()\n",
        "\n",
        "# Save embeddings to FAISS\n",
        "def save_embeddings_to_faiss(embeddings, image_paths, faiss_index_path):\n",
        "    dimension = embeddings.shape[1]\n",
        "    index = faiss.IndexFlatL2(dimension)\n",
        "    index.add(embeddings)\n",
        "\n",
        "    # Save mapping of image paths\n",
        "    with open(\"image_paths.txt\", \"w\") as f:\n",
        "        for path in image_paths:\n",
        "            f.write(f\"{path}\\n\")\n",
        "\n",
        "    faiss.write_index(index, faiss_index_path)\n",
        "    print(\"FAISS index and image paths saved.\")\n",
        "\n",
        "# Main execution\n",
        "image_folder = \"figures\"\n",
        "faiss_index_path = \"image_faiss.index\"\n",
        "image_paths, embeddings = get_image_embeddings(image_folder)\n",
        "save_embeddings_to_faiss(embeddings, image_paths, faiss_index_path)"
      ],
      "metadata": {
        "colab": {
          "base_uri": "https://localhost:8080/"
        },
        "collapsed": true,
        "id": "km8iVSdLFqHQ",
        "outputId": "6a22402b-6713-42b4-a965-097100e3a05b"
      },
      "execution_count": 31,
      "outputs": [
        {
          "output_type": "stream",
          "name": "stdout",
          "text": [
            "FAISS index and image paths saved.\n"
          ]
        }
      ]
    },
    {
      "cell_type": "code",
      "source": [
        "pip install transformers faiss-gpu torch torchvision Pillow"
      ],
      "metadata": {
        "colab": {
          "base_uri": "https://localhost:8080/"
        },
        "id": "KSoqhzwHHiXR",
        "outputId": "bbf4e272-bd21-4c0f-9877-0a3652250287"
      },
      "execution_count": 11,
      "outputs": [
        {
          "output_type": "stream",
          "name": "stdout",
          "text": [
            "Requirement already satisfied: transformers in /usr/local/lib/python3.11/dist-packages (4.47.1)\n",
            "\u001b[31mERROR: Could not find a version that satisfies the requirement faiss-gpu (from versions: none)\u001b[0m\u001b[31m\n",
            "\u001b[0m\u001b[31mERROR: No matching distribution found for faiss-gpu\u001b[0m\u001b[31m\n",
            "\u001b[0m"
          ]
        }
      ]
    },
    {
      "cell_type": "markdown",
      "source": [
        "TESTING IMAGE SIMILARITY SEARCH FOR SAMPLE QUERY"
      ],
      "metadata": {
        "id": "s4xMwLkfFM4U"
      }
    },
    {
      "cell_type": "code",
      "source": [
        "import os\n",
        "import faiss\n",
        "import torch\n",
        "import numpy as np\n",
        "from PIL import Image\n",
        "from sentence_transformers import SentenceTransformer\n",
        "\n",
        "# Load CLIP model\n",
        "model = SentenceTransformer('clip-ViT-B-32')\n",
        "\n",
        "# Function to get image embeddings\n",
        "def get_image_embeddings(image_folder):\n",
        "    image_paths = []\n",
        "    embeddings = []\n",
        "\n",
        "    for filename in sorted(os.listdir(image_folder)):  # Sort for consistency\n",
        "        if filename.lower().endswith(('png', 'jpg', 'jpeg')):\n",
        "            image_path = os.path.join(image_folder, filename)\n",
        "            image_paths.append(image_path)\n",
        "\n",
        "            # Load and preprocess image\n",
        "            image = Image.open(image_path).convert(\"RGB\")\n",
        "            image_embedding = model.encode(image, convert_to_tensor=True)\n",
        "            embeddings.append(image_embedding)\n",
        "\n",
        "    return image_paths, torch.stack(embeddings).cpu().numpy()\n",
        "\n",
        "# Save embeddings to FAISS\n",
        "def save_embeddings_to_faiss(embeddings, image_paths, faiss_index_path):\n",
        "    dimension = embeddings.shape[1]\n",
        "    index = faiss.IndexFlatL2(dimension)\n",
        "    index.add(embeddings)\n",
        "\n",
        "    # Save mapping of image paths\n",
        "    with open(\"image_paths.txt\", \"w\") as f:\n",
        "        for path in image_paths:\n",
        "            f.write(f\"{path}\\n\")\n",
        "\n",
        "    faiss.write_index(index, faiss_index_path)\n",
        "    print(\"FAISS index and image paths saved.\")\n",
        "\n",
        "# Load FAISS and retrieve images based on query\n",
        "def search_images(query, faiss_index_path, image_paths_file, top_k=5):\n",
        "    # Load FAISS index\n",
        "    index = faiss.read_index(faiss_index_path)\n",
        "\n",
        "    # Load image paths\n",
        "    with open(image_paths_file, \"r\") as f:\n",
        "        image_paths = [line.strip() for line in f.readlines()]\n",
        "\n",
        "    # Encode query into the same embedding space\n",
        "    query_embedding = model.encode(query, convert_to_tensor=True).cpu().numpy().reshape(1, -1)\n",
        "\n",
        "    # Search FAISS index\n",
        "    distances, indices = index.search(query_embedding, top_k)\n",
        "\n",
        "    # Return the most relevant images\n",
        "    results = [(image_paths[i], distances[0][j]) for j, i in enumerate(indices[0])]\n",
        "    return results\n",
        "\n",
        "# Main execution\n",
        "image_folder = \"figures\"  # Use extracted images folder\n",
        "faiss_index_path = \"image_faiss.index\"\n",
        "image_paths, embeddings = get_image_embeddings(image_folder)\n",
        "save_embeddings_to_faiss(embeddings, image_paths, faiss_index_path)\n",
        "\n",
        "# Example Query\n",
        "query = \"PROPOSED ARCHITECTURE IN THIS RESEARCH\"\n",
        "retrieved_images = search_images(query, faiss_index_path, \"image_paths.txt\", top_k=1)\n",
        "\n",
        "# Print Results\n",
        "print(\"\\nRetrieved Images:\")\n",
        "for img_path, score in retrieved_images:\n",
        "    print(f\"{img_path} (Score: {score:.4f})\")\n"
      ],
      "metadata": {
        "colab": {
          "base_uri": "https://localhost:8080/"
        },
        "id": "re-m9N5IHPcD",
        "outputId": "8b199679-07e1-49c9-eaa8-59ae0c15d6ba"
      },
      "execution_count": 32,
      "outputs": [
        {
          "output_type": "stream",
          "name": "stdout",
          "text": [
            "FAISS index and image paths saved.\n",
            "\n",
            "Retrieved Images:\n",
            "figures/figure-3-1.jpg (Score: 174.1404)\n"
          ]
        }
      ]
    },
    {
      "cell_type": "code",
      "source": [
        "from PIL import Image\n",
        "import matplotlib.pyplot as plt\n",
        "\n",
        "image_path = 'figures/figure-3-1.jpg'  #RETRIEVED AS OUTPUT IN THE QUERY ABOVE\n",
        "\n",
        "try:\n",
        "    img = Image.open(image_path)\n",
        "    plt.imshow(img)\n",
        "    plt.axis('off')  # Hide axes\n",
        "    plt.show()\n",
        "except FileNotFoundError:\n",
        "    print(f\"Error: Image file not found at {image_path}\")\n",
        "except Exception as e:\n",
        "    print(f\"An error occurred: {e}\")\n"
      ],
      "metadata": {
        "colab": {
          "base_uri": "https://localhost:8080/",
          "height": 258
        },
        "id": "tRkkY41LOTdK",
        "outputId": "2cdd6db6-bf17-492f-8398-eb3ec2c56f9b"
      },
      "execution_count": 33,
      "outputs": [
        {
          "output_type": "display_data",
          "data": {
            "text/plain": [
              "<Figure size 640x480 with 1 Axes>"
            ],
            "image/png": "[encoded data removed]"
          },
          "metadata": {}
        }
      ]
    },
    {
      "cell_type": "markdown",
      "source": [
        "TEXT EXTRACTION AND PREPROCESSING"
      ],
      "metadata": {
        "id": "DJ6yvfdkRtOF"
      }
    },
    {
      "cell_type": "code",
      "source": [
        "import PyPDF2\n",
        "\n",
        "def extract_text_from_pdf(pdf_path):\n",
        "    \"\"\"Extracts and returns structured text from a PDF document.\"\"\"\n",
        "    text = \"\"\n",
        "    with open(pdf_path, \"rb\") as file:\n",
        "        reader = PyPDF2.PdfReader(file)\n",
        "        for page in reader.pages:\n",
        "            page_text = page.extract_text()\n",
        "            if page_text:\n",
        "                text += page_text + \"\\n\"\n",
        "    return text\n",
        "\n",
        "# Example Usage\n",
        "pdf_file = \"sdn.pdf\"  # Replace with actual file path\n",
        "research_text = extract_text_from_pdf(pdf_file)\n",
        "print(research_text[:1000])  # Print first 1000 characters for verification"
      ],
      "metadata": {
        "colab": {
          "base_uri": "https://localhost:8080/"
        },
        "id": "D6NxhhKMk_S_",
        "outputId": "5c483243-ad18-4021-ae38-a158fb82ef29"
      },
      "execution_count": 34,
      "outputs": [
        {
          "output_type": "stream",
          "name": "stdout",
          "text": [
            "FAST : AI-based Network Traffic Analysis and Load\n",
            "Balancing Framework Underlying SDN Clusters\n",
            "Drishya Shah, Diya Shah\n",
            "Department of Comp. Sci. & Engg.\n",
            "Institute of Technology,\n",
            "Nirma University, Ahmedabad, India\n",
            "{22bce088, 22bce080 }@nirmauniac.inFenil Ramoliya, Rajesh Gupta\n",
            "Department of Comp. Sci. & Engg.\n",
            "Institute of Technology,\n",
            "Nirma University, Ahmedabad, India\n",
            "{21bce244, rajesh.gupta }@nirmauni.ac.inHetal Brijesh Shah\n",
            "Department of ECE\n",
            "Dharmsinh Desai University,\n",
            "Nadiad, Gujarat, India\n",
            "shahhetal.ec@ddu.ac.in\n",
            "Sudeep Tanwar\n",
            "Department of Comp. Sci. & Engg.\n",
            "Institute of Technology,\n",
            "Nirma University, Ahmedabad, India\n",
            "sudeep.tanwar@nirmauni.ac.inHossein Shahinzadeh\n",
            "Department of Electrical Engg.\n",
            "Amirkabir University of Technology\n",
            "Tehran Polytechnic, Tehran, Iran\n",
            "h.s.shahinzadeh@ieee.orgDeepak Garg\n",
            "School of Comp. Science and AI,\n",
            "SR University,\n",
            "Warangal, Telangana, India\n",
            "deepak.garg@sru.edu.in\n",
            "Abstract —In the smart ecosystem environment, critical request\n",
            "handling is essential for seaml\n"
          ]
        }
      ]
    },
    {
      "cell_type": "code",
      "source": [
        "import re\n",
        "\n",
        "def split_into_sections(text):\n",
        "    \"\"\"Splits research paper text into structured sections based on headings.\"\"\"\n",
        "    sections = {}\n",
        "    current_section = \"Introduction\"  # Default to Introduction if no heading is found\n",
        "    sections[current_section] = []\n",
        "\n",
        "    # Regex pattern for typical research paper headings\n",
        "    heading_pattern = re.compile(r\"(?m)^(Abstract|Introduction|Proposed Approach|Methodology|Dataset|Results|Performance Evaluation|Conclusion|References)\", re.IGNORECASE)\n",
        "\n",
        "    for line in text.split(\"\\n\"):\n",
        "        match = heading_pattern.match(line.strip())\n",
        "        if match:\n",
        "            current_section = match.group(0)\n",
        "            sections[current_section] = []\n",
        "        sections[current_section].append(line.strip())\n",
        "\n",
        "    # Join lists into strings for easy processing\n",
        "    sections = {k: \"\\n\".join(v) for k, v in sections.items()}\n",
        "\n",
        "    return sections\n",
        "\n",
        "# Example Usage\n",
        "structured_sections = split_into_sections(research_text)\n",
        "for section, content in structured_sections.items():\n",
        "    print(f\"\\n===== {section} =====\\n{content[:500]}\")  # Display first 500 characters for each section"
      ],
      "metadata": {
        "colab": {
          "base_uri": "https://localhost:8080/"
        },
        "id": "C7_ERkIYlYr0",
        "outputId": "6ebfdffe-7035-404d-de32-9ec632bae5e0"
      },
      "execution_count": 35,
      "outputs": [
        {
          "output_type": "stream",
          "name": "stdout",
          "text": [
            "\n",
            "===== Introduction =====\n",
            "FAST : AI-based Network Traffic Analysis and Load\n",
            "Balancing Framework Underlying SDN Clusters\n",
            "Drishya Shah, Diya Shah\n",
            "Department of Comp. Sci. & Engg.\n",
            "Institute of Technology,\n",
            "Nirma University, Ahmedabad, India\n",
            "{22bce088, 22bce080 }@nirmauniac.inFenil Ramoliya, Rajesh Gupta\n",
            "Department of Comp. Sci. & Engg.\n",
            "Institute of Technology,\n",
            "Nirma University, Ahmedabad, India\n",
            "{21bce244, rajesh.gupta }@nirmauni.ac.inHetal Brijesh Shah\n",
            "Department of ECE\n",
            "Dharmsinh Desai University,\n",
            "Nadiad, Gujarat, India\n",
            "shah\n",
            "\n",
            "===== Abstract =====\n",
            "Abstract —In the smart ecosystem environment, critical request\n",
            "handling is essential for seamless network operation. It is\n",
            "necessary that these requests are forwarded efficiently with low\n",
            "latency and high scalability as well as security. Software-Defined\n",
            "Networking (SDN) plays a crucial role in this environment with\n",
            "its dynamic traffic engineering mechanism, Quality of Service\n",
            "(QoS) implementation, Fast-intelligent routing, and, Artificial\n",
            "Intelligence (AI) integration capacity. Designing polici\n",
            "\n",
            "===== dataset =====\n",
            "dataset. It can be observed that in the first row of the matrix,\n",
            "there are 86264 entries which are actually labeled as ‘Web’\n",
            "and are correctly classified as ‘Web’ by the model. There\n",
            "are 107 entries which are actually labeled as ‘Web’, but\n",
            "are wrongly classified as ‘Network’ by the model. From\n",
            "the matrix, it is evident that the diagonal elements (top-left\n",
            "to bottom-right) contain high values and the off-diagonal\n",
            "elements contain relatively low values. This indicates that the\n",
            "ensemble learning mo\n"
          ]
        }
      ]
    },
    {
      "cell_type": "code",
      "source": [
        "!pip install sentence-transformers faiss-cpu"
      ],
      "metadata": {
        "colab": {
          "base_uri": "https://localhost:8080/"
        },
        "collapsed": true,
        "id": "B3FM_gcAleAo",
        "outputId": "8bb8d641-575e-4d21-f053-c5c26e5d3f7f"
      },
      "execution_count": 15,
      "outputs": [
        {
          "output_type": "stream",
          "name": "stdout",
          "text": [
            "Requirement already satisfied: sentence-transformers in /usr/local/lib/python3.11/dist-packages (3.3.1)\n",
            "Requirement already satisfied: faiss-cpu in /usr/local/lib/python3.11/dist-packages (1.10.0)\n",
            "Requirement already satisfied: transformers<5.0.0,>=4.41.0 in /usr/local/lib/python3.11/dist-packages (from sentence-transformers) (4.47.1)\n",
            "Requirement already satisfied: tqdm in /usr/local/lib/python3.11/dist-packages (from sentence-transformers) (4.67.1)\n",
            "Requirement already satisfied: torch>=1.11.0 in /usr/local/lib/python3.11/dist-packages (from sentence-transformers) (2.5.1+cu124)\n",
            "Requirement already satisfied: scikit-learn in /usr/local/lib/python3.11/dist-packages (from sentence-transformers) (1.6.1)\n",
            "Requirement already satisfied: scipy in /usr/local/lib/python3.11/dist-packages (from sentence-transformers) (1.13.1)\n",
            "Requirement already satisfied: huggingface-hub>=0.20.0 in /usr/local/lib/python3.11/dist-packages (from sentence-transformers) (0.27.1)\n",
            "Requirement already satisfied: Pillow in /usr/local/lib/python3.11/dist-packages (from sentence-transformers) (11.1.0)\n",
            "Requirement already satisfied: numpy<3.0,>=1.25.0 in /usr/local/lib/python3.11/dist-packages (from faiss-cpu) (1.26.4)\n",
            "Requirement already satisfied: packaging in /usr/local/lib/python3.11/dist-packages (from faiss-cpu) (24.2)\n",
            "Requirement already satisfied: filelock in /usr/local/lib/python3.11/dist-packages (from huggingface-hub>=0.20.0->sentence-transformers) (3.17.0)\n",
            "Requirement already satisfied: fsspec>=2023.5.0 in /usr/local/lib/python3.11/dist-packages (from huggingface-hub>=0.20.0->sentence-transformers) (2024.10.0)\n",
            "Requirement already satisfied: pyyaml>=5.1 in /usr/local/lib/python3.11/dist-packages (from huggingface-hub>=0.20.0->sentence-transformers) (6.0.2)\n",
            "Requirement already satisfied: requests in /usr/local/lib/python3.11/dist-packages (from huggingface-hub>=0.20.0->sentence-transformers) (2.32.3)\n",
            "Requirement already satisfied: typing-extensions>=3.7.4.3 in /usr/local/lib/python3.11/dist-packages (from huggingface-hub>=0.20.0->sentence-transformers) (4.12.2)\n",
            "Requirement already satisfied: networkx in /usr/local/lib/python3.11/dist-packages (from torch>=1.11.0->sentence-transformers) (3.4.2)\n",
            "Requirement already satisfied: jinja2 in /usr/local/lib/python3.11/dist-packages (from torch>=1.11.0->sentence-transformers) (3.1.5)\n",
            "Requirement already satisfied: nvidia-cuda-nvrtc-cu12==12.4.127 in /usr/local/lib/python3.11/dist-packages (from torch>=1.11.0->sentence-transformers) (12.4.127)\n",
            "Requirement already satisfied: nvidia-cuda-runtime-cu12==12.4.127 in /usr/local/lib/python3.11/dist-packages (from torch>=1.11.0->sentence-transformers) (12.4.127)\n",
            "Requirement already satisfied: nvidia-cuda-cupti-cu12==12.4.127 in /usr/local/lib/python3.11/dist-packages (from torch>=1.11.0->sentence-transformers) (12.4.127)\n",
            "Requirement already satisfied: nvidia-cudnn-cu12==9.1.0.70 in /usr/local/lib/python3.11/dist-packages (from torch>=1.11.0->sentence-transformers) (9.1.0.70)\n",
            "Requirement already satisfied: nvidia-cublas-cu12==12.4.5.8 in /usr/local/lib/python3.11/dist-packages (from torch>=1.11.0->sentence-transformers) (12.4.5.8)\n",
            "Requirement already satisfied: nvidia-cufft-cu12==11.2.1.3 in /usr/local/lib/python3.11/dist-packages (from torch>=1.11.0->sentence-transformers) (11.2.1.3)\n",
            "Requirement already satisfied: nvidia-curand-cu12==10.3.5.147 in /usr/local/lib/python3.11/dist-packages (from torch>=1.11.0->sentence-transformers) (10.3.5.147)\n",
            "Requirement already satisfied: nvidia-cusolver-cu12==11.6.1.9 in /usr/local/lib/python3.11/dist-packages (from torch>=1.11.0->sentence-transformers) (11.6.1.9)\n",
            "Requirement already satisfied: nvidia-cusparse-cu12==12.3.1.170 in /usr/local/lib/python3.11/dist-packages (from torch>=1.11.0->sentence-transformers) (12.3.1.170)\n",
            "Requirement already satisfied: nvidia-nccl-cu12==2.21.5 in /usr/local/lib/python3.11/dist-packages (from torch>=1.11.0->sentence-transformers) (2.21.5)\n",
            "Requirement already satisfied: nvidia-nvtx-cu12==12.4.127 in /usr/local/lib/python3.11/dist-packages (from torch>=1.11.0->sentence-transformers) (12.4.127)\n",
            "Requirement already satisfied: nvidia-nvjitlink-cu12==12.4.127 in /usr/local/lib/python3.11/dist-packages (from torch>=1.11.0->sentence-transformers) (12.4.127)\n",
            "Requirement already satisfied: triton==3.1.0 in /usr/local/lib/python3.11/dist-packages (from torch>=1.11.0->sentence-transformers) (3.1.0)\n",
            "Requirement already satisfied: sympy==1.13.1 in /usr/local/lib/python3.11/dist-packages (from torch>=1.11.0->sentence-transformers) (1.13.1)\n",
            "Requirement already satisfied: mpmath<1.4,>=1.1.0 in /usr/local/lib/python3.11/dist-packages (from sympy==1.13.1->torch>=1.11.0->sentence-transformers) (1.3.0)\n",
            "Requirement already satisfied: regex!=2019.12.17 in /usr/local/lib/python3.11/dist-packages (from transformers<5.0.0,>=4.41.0->sentence-transformers) (2024.11.6)\n",
            "Requirement already satisfied: tokenizers<0.22,>=0.21 in /usr/local/lib/python3.11/dist-packages (from transformers<5.0.0,>=4.41.0->sentence-transformers) (0.21.0)\n",
            "Requirement already satisfied: safetensors>=0.4.1 in /usr/local/lib/python3.11/dist-packages (from transformers<5.0.0,>=4.41.0->sentence-transformers) (0.5.2)\n",
            "Requirement already satisfied: joblib>=1.2.0 in /usr/local/lib/python3.11/dist-packages (from scikit-learn->sentence-transformers) (1.4.2)\n",
            "Requirement already satisfied: threadpoolctl>=3.1.0 in /usr/local/lib/python3.11/dist-packages (from scikit-learn->sentence-transformers) (3.5.0)\n",
            "Requirement already satisfied: MarkupSafe>=2.0 in /usr/local/lib/python3.11/dist-packages (from jinja2->torch>=1.11.0->sentence-transformers) (3.0.2)\n",
            "Requirement already satisfied: charset-normalizer<4,>=2 in /usr/local/lib/python3.11/dist-packages (from requests->huggingface-hub>=0.20.0->sentence-transformers) (3.4.1)\n",
            "Requirement already satisfied: idna<4,>=2.5 in /usr/local/lib/python3.11/dist-packages (from requests->huggingface-hub>=0.20.0->sentence-transformers) (3.10)\n",
            "Requirement already satisfied: urllib3<3,>=1.21.1 in /usr/local/lib/python3.11/dist-packages (from requests->huggingface-hub>=0.20.0->sentence-transformers) (2.3.0)\n",
            "Requirement already satisfied: certifi>=2017.4.17 in /usr/local/lib/python3.11/dist-packages (from requests->huggingface-hub>=0.20.0->sentence-transformers) (2024.12.14)\n"
          ]
        }
      ]
    },
    {
      "cell_type": "code",
      "source": [
        "from sentence_transformers import SentenceTransformer\n",
        "import numpy as np\n",
        "import faiss\n",
        "\n",
        "# Load pre-trained embedding model\n",
        "embedding_model = SentenceTransformer(\"all-MiniLM-L6-v2\")\n",
        "\n",
        "def embed_sections(sections):\n",
        "    \"\"\"Generates embeddings for research paper sections.\"\"\"\n",
        "    section_names = list(sections.keys())\n",
        "    section_texts = list(sections.values())\n",
        "\n",
        "    embeddings = embedding_model.encode(section_texts, convert_to_numpy=True)\n",
        "\n",
        "    # Store embeddings in FAISS Index for retrieval\n",
        "    index = faiss.IndexFlatL2(embeddings.shape[1])\n",
        "    index.add(embeddings)\n",
        "\n",
        "    return section_names, index, embeddings\n",
        "\n",
        "# Example Usage\n",
        "section_names, index, embeddings = embed_sections(structured_sections)"
      ],
      "metadata": {
        "collapsed": true,
        "id": "qbX0fgSclefk"
      },
      "execution_count": 36,
      "outputs": []
    },
    {
      "cell_type": "markdown",
      "source": [
        "MAKING RETRIEVAL FUNCTION FOR TEXT AND SAMPLE TESTCASES"
      ],
      "metadata": {
        "id": "enX9VQmcF4ts"
      }
    },
    {
      "cell_type": "code",
      "source": [
        "def retrieve_relevant_sections(query, section_names, index, embeddings, top_k=4):\n",
        "    \"\"\"Retrieves top-k relevant sections for a given query using FAISS.\"\"\"\n",
        "    query_embedding = embedding_model.encode([query], convert_to_numpy=True)\n",
        "\n",
        "    distances, indices = index.search(query_embedding, top_k)\n",
        "    relevant_sections = [section_names[i] for i in indices[0]]\n",
        "\n",
        "    return relevant_sections\n",
        "\n",
        "# Example Usage\n",
        "query = \"Summarize the methodology of this research\"\n",
        "relevant_sections = retrieve_relevant_sections(query, section_names, index, embeddings)\n",
        "print(\"Relevant Sections:\", relevant_sections)\n",
        "def retrieve_relevant_sections(query, section_names, index, embeddings, top_k=3):\n",
        "    \"\"\"Retrieves top-k relevant sections for a given query using FAISS.\"\"\"\n",
        "    query_embedding = embedding_model.encode([query], convert_to_numpy=True)\n",
        "\n",
        "    distances, indices = index.search(query_embedding, top_k)\n",
        "    relevant_sections = [section_names[i] for i in indices[0]]\n",
        "\n",
        "    return relevant_sections\n",
        "\n",
        "# Example Usage\n",
        "query = \"Summarize the methodology of this research\"\n",
        "relevant_sections = retrieve_relevant_sections(query, section_names, index, embeddings)\n",
        "print(\"Relevant Sections:\", relevant_sections)"
      ],
      "metadata": {
        "colab": {
          "base_uri": "https://localhost:8080/"
        },
        "id": "A5x0WlX4mWLX",
        "outputId": "6389b2bb-b13a-4762-ffc0-3c76b8352f99"
      },
      "execution_count": 37,
      "outputs": [
        {
          "output_type": "stream",
          "name": "stdout",
          "text": [
            "Relevant Sections: ['Introduction', 'dataset', 'Abstract', 'dataset']\n",
            "Relevant Sections: ['Introduction', 'dataset', 'Abstract']\n"
          ]
        }
      ]
    },
    {
      "cell_type": "code",
      "source": [
        "# !pip install google-generativeai"
      ],
      "metadata": {
        "collapsed": true,
        "id": "CswEk96zmZns"
      },
      "execution_count": 18,
      "outputs": []
    },
    {
      "cell_type": "code",
      "source": [
        "import google.generativeai as genai\n",
        "\n",
        "#USE OWN GEMINI API KEY HERE\n",
        "genai.configure(api_key=\"MY_GEMINI_KEY_GOES_HERE\")"
      ],
      "metadata": {
        "id": "A4ZGWpEamaQM"
      },
      "execution_count": 38,
      "outputs": []
    },
    {
      "cell_type": "code",
      "source": [
        "def generate_contextual_summary(query, section_names, index, embeddings, structured_sections):\n",
        "    \"\"\"Retrieves relevant sections and generates a Gemini-powered summary.\"\"\"\n",
        "    relevant_sections = retrieve_relevant_sections(query, section_names, index, embeddings)\n",
        "\n",
        "    context = \"\\n\\n\".join([f\"{sec}:\\n{structured_sections[sec]}\" for sec in relevant_sections])\n",
        "\n",
        "    model = genai.GenerativeModel(\"gemini-1.5-pro-latest\")\n",
        "    prompt = f\"\"\"\n",
        "    Read the following research paper sections and generate a highly detailed and insightful summary.\n",
        "    The summary should retain all key technical details, equations (if applicable), findings, and methodology descriptions.\n",
        "\n",
        "    Research Sections:\n",
        "    {context}\n",
        "\n",
        "    Provide a deep and thorough summary:\n",
        "    \"\"\"\n",
        "    response = model.generate_content(prompt)\n",
        "    return response.text.strip()\n",
        "\n",
        "# Example Usage\n",
        "query = \"Summarize the methodology and results of this research paper in extreme detail in atleast 1500 words\"\n",
        "contextual_summary = generate_contextual_summary(query, section_names, index, embeddings, structured_sections)\n",
        "print(\"\\n===== CONTEXTUAL SUMMARY =====\\n\")\n",
        "print(contextual_summary)"
      ],
      "metadata": {
        "colab": {
          "base_uri": "https://localhost:8080/",
          "height": 800
        },
        "id": "yEOjR06amc-g",
        "outputId": "49b31ef2-5b85-42f1-ff3d-f56594761b32"
      },
      "execution_count": 39,
      "outputs": [
        {
          "output_type": "stream",
          "name": "stdout",
          "text": [
            "\n",
            "===== CONTEXTUAL SUMMARY =====\n",
            "\n",
            "This research paper proposes FAST (Framework for Analyzing SDN Traffic), a novel SDN architecture employing a clustered approach and an ensemble learning model for intelligent network traffic routing and load balancing within a smart ecosystem.  The primary motivation is to address challenges like single points of failure, packet processing delays, and inefficient resource utilization that plague traditional SDN and monolithic SDN controller designs.\n",
            "\n",
            "**Key Contributions:**\n",
            "\n",
            "* **SDN Clustering:** FAST introduces a clustered SDN architecture.  Instead of a single controller managing all traffic, specialized clusters (Web, Network, IoT, Social Network, and a default cluster for low loads) handle traffic from their respective sources. This distributed approach improves scalability, fault tolerance, and resource utilization.\n",
            "* **Ensemble Learning for Intelligent Routing:** A central \"mainframe\" SDN controller employs an ensemble learning (EL) model to classify incoming traffic and direct it to the appropriate cluster. The EL model, specifically a stacking classifier, leverages the strengths of multiple base learners (Logistic Regression, Decision Trees, and Random Forest) and a meta-learner (Logistic Regression) to achieve higher accuracy compared to traditional machine learning models.\n",
            "* **Comprehensive Performance Evaluation:** The paper provides a detailed performance analysis of the EL model, including confusion matrix, ROC curve, PR curve, and comparisons with other models based on accuracy, F1-score, precision, and recall.\n",
            "\n",
            "**System Model and Problem Formulation:**\n",
            "\n",
            "The system model describes data originating from various network applications within a smart ecosystem (SE). This data (D) is categorized into four primary sources: Web (Π<sub>web</sub>), Network (Π<sub>network</sub>), IoT (Π<sub>iot</sub>), and Social Network (Π<sub>socialnetwork</sub>).\n",
            "\n",
            "* **Equation 1:** D ← N ∈ SE  (Data originates from network applications in the SE)\n",
            "* **Equation 2:** D = {Π<sub>web</sub>, Π<sub>network</sub>, Π<sub>iot</sub>, Π<sub>socialnetwork</sub>} (Data categories)\n",
            "\n",
            "The mainframe SDN controller (Ψ<sub>SDN</sub>) utilizes the EL model (λ<sub>EL</sub>) to classify the incoming data (D) and predict the output category (Θ).\n",
            "\n",
            "* **Equation 3:** Θ = Ψ<sub>SDN</sub>(λ<sub>EL</sub>(D))  (Category prediction)\n",
            "* **Equation 4:** Θ ∈ C (Predicted category belongs to a cluster)\n",
            "\n",
            "The classified traffic is then forwarded to the corresponding SDN cluster (C) for processing.\n",
            "\n",
            "* **Equation 5:** C = {C<sub>web</sub>, C<sub>network</sub>, C<sub>iot</sub>, C<sub>socialnetwork</sub>, C<sub>default</sub>} (Available clusters)\n",
            "\n",
            "**The Proposed Framework (FAST Architecture):**\n",
            "\n",
            "The FAST architecture consists of three layers:\n",
            "\n",
            "1. **Network Communication Layer:**  This layer models the diverse communication patterns within the smart ecosystem, including client-server (C-S), server-to-server (S2S), peer-to-peer (P2P), IoT device communication, and social network communication.  Mathematical representations (functions) are provided for each communication type.\n",
            "\n",
            "2. **Mainframe SDN-AI Layer:** This layer houses the core intelligence of FAST. The mainframe SDN controller integrates the EL model, trained on the \"Labeled Network Traffic Flows\" dataset. The stacking classifier combines the predictions of the base models (Logistic Regression, Decision Trees, Random Forest) and feeds them to a meta-learner (Logistic Regression) for final classification.\n",
            "\n",
            "3. **SDN Clustering Layer:** This layer consists of specialized SDN controller clusters, each designed to handle traffic from a specific category (Web, Network, IoT, Social Network).  A default cluster handles all traffic types under low-load conditions.\n",
            "\n",
            "**Dataset and Evaluation:**\n",
            "\n",
            "The \"Labeled Network Traffic Flows\" dataset, containing approximately 2.7 million flows and 50 features, is used for training and evaluation. The confusion matrix analysis demonstrates the effectiveness of the EL model, with high diagonal values indicating accurate classification.  The paper mentions the use of ROC and PR curves for further performance evaluation and compares the EL model with other ML models using accuracy, F1-score, precision, and recall.\n",
            "\n",
            "**Conclusion and Future Work:**\n",
            "\n",
            "FAST addresses crucial challenges in SDN-based smart ecosystems by distributing the control plane across specialized clusters and leveraging the power of ensemble learning for intelligent traffic routing. Future research directions include optimizing resource management and security in 5G networks, improving resource utilization in cloud computing, enhancing security in blockchain networks, and applying federated learning for localized threat classification.\n"
          ]
        }
      ]
    },
    {
      "cell_type": "code",
      "source": [
        "def generate_slide_content(contextual_summary):\n",
        "    \"\"\"Uses Gemini API to convert a detailed summary into structured slide content.\"\"\"\n",
        "    model = genai.GenerativeModel(\"gemini-1.5-pro-latest\")\n",
        "\n",
        "    prompt = f\"\"\"\n",
        "    Convert the following detailed research summary into structured slide content\n",
        "    for a professional conference presentation. Ensure each slide has:\n",
        "\n",
        "    - A clear and engaging title\n",
        "    - Key points formatted concisely\n",
        "    - Technical details found throughout the paper\n",
        "    - At least 5 to 6 relevant bullet points per slide\n",
        "    - A logical flow from background to findings and conclusion\n",
        "    - Aesthetic appeal for a professional audience\n",
        "\n",
        "    Format the response as:\n",
        "    *Slide Title: [Title]*\n",
        "    *Content:*\n",
        "    - Bullet point 1\n",
        "    - Bullet point 2\n",
        "    - Bullet point 3\n",
        "    - Bullet point 4\n",
        "    - Bullet point 5\n",
        "    - Bullet point 6\n",
        "\n",
        "    Detailed Research Summary:\n",
        "    {contextual_summary}\n",
        "    \"\"\"\n",
        "\n",
        "    response = model.generate_content(prompt)\n",
        "\n",
        "    return response.text.strip()\n",
        "\n",
        "# Example Usage\n",
        "slide_content = generate_slide_content(contextual_summary)\n",
        "print(\"\\n===== SLIDE CONTENT ===== \\n\")\n",
        "print(slide_content)"
      ],
      "metadata": {
        "colab": {
          "base_uri": "https://localhost:8080/",
          "height": 1000
        },
        "id": "DzIp5b3Smfyb",
        "outputId": "7e036d02-fefe-4677-d1e2-8a01761c777a"
      },
      "execution_count": 40,
      "outputs": [
        {
          "output_type": "stream",
          "name": "stdout",
          "text": [
            "\n",
            "===== SLIDE CONTENT ===== \n",
            "\n",
            "*Slide Title: Introduction: Addressing SDN Challenges in Smart Ecosystems*\n",
            "*Content:*\n",
            "- Traditional SDN faces scalability and performance bottlenecks.\n",
            "- Single points of failure impact network resilience.\n",
            "- Inefficient resource utilization leads to performance degradation.\n",
            "- Existing solutions struggle with complex and dynamic traffic patterns.\n",
            "- FAST (Framework for Analyzing SDN Traffic) proposes a novel clustered SDN architecture with intelligent routing.\n",
            "- This approach enhances scalability, fault tolerance, and resource efficiency.\n",
            "\n",
            "\n",
            "*Slide Title: FAST Architecture: A Three-Layered Approach*\n",
            "*Content:*\n",
            "- **Network Communication Layer:** Models diverse communication patterns (C-S, S2S, P2P, IoT, Social Network). Mathematical functions represent each type.\n",
            "- **Mainframe SDN-AI Layer:** Houses the core intelligence. Mainframe SDN controller integrates the Ensemble Learning (EL) model.  Trained on \"Labeled Network Traffic Flows\" dataset.\n",
            "- **SDN Clustering Layer:** Specialized SDN controller clusters (Web, Network, IoT, Social Network, Default).  Handles traffic based on category.  Default cluster manages low-load scenarios.\n",
            "- Improves scalability and fault tolerance by distributing control plane.\n",
            "- Enables efficient resource utilization by directing traffic to specialized clusters.\n",
            "- Provides a flexible and adaptable framework for managing diverse traffic types.\n",
            "\n",
            "\n",
            "*Slide Title: Intelligent Traffic Routing with Ensemble Learning*\n",
            "*Content:*\n",
            "- Employs a stacking classifier as the EL model.\n",
            "- Base Learners: Logistic Regression, Decision Trees, Random Forest.\n",
            "- Meta-Learner: Logistic Regression.\n",
            "- Leverages the strengths of multiple base learners for improved accuracy.\n",
            "- Stacking combines predictions for a more robust classification.\n",
            "- Outperforms traditional ML models in traffic classification tasks.\n",
            "\n",
            "\n",
            "*Slide Title: System Model and Problem Formulation*\n",
            "*Content:*\n",
            "- Data (D) originates from network applications within a Smart Ecosystem (SE):  D ← N ∈ SE\n",
            "- Data is categorized: D = {Π<sub>web</sub>, Π<sub>network</sub>, Π<sub>iot</sub>, Π<sub>socialnetwork</sub>}\n",
            "- Mainframe SDN Controller (Ψ<sub>SDN</sub>) uses the EL model (λ<sub>EL</sub>) to predict the category (Θ): Θ = Ψ<sub>SDN</sub>(λ<sub>EL</sub>(D))\n",
            "- Predicted category belongs to a cluster: Θ ∈ C\n",
            "- Traffic is forwarded to the corresponding cluster: C = {C<sub>web</sub>, C<sub>network</sub>, C<sub>iot</sub>, C<sub>socialnetwork</sub>, C<sub>default</sub>}\n",
            "- This model ensures efficient routing and resource allocation based on traffic type.\n",
            "\n",
            "\n",
            "*Slide Title: Performance Evaluation and Results*\n",
            "*Content:*\n",
            "- Dataset: \"Labeled Network Traffic Flows\" (approx. 2.7 million flows, 50 features).\n",
            "- Evaluation Metrics: Accuracy, F1-score, Precision, Recall.\n",
            "- Confusion Matrix: High diagonal values demonstrate accurate classification.\n",
            "- ROC Curve and PR Curve:  Further validate the model's performance (details in paper).\n",
            "- Comparison with other ML models: EL model achieves superior performance across all metrics.\n",
            "- Results demonstrate the effectiveness of the EL model for accurate traffic classification.\n",
            "\n",
            "\n",
            "*Slide Title: Conclusion and Future Directions*\n",
            "*Content:*\n",
            "- FAST enhances scalability, fault tolerance, and resource utilization in SDN-based smart ecosystems.\n",
            "- Intelligent traffic routing via ensemble learning significantly improves performance.\n",
            "- Future work includes optimizing resource management and security in 5G networks.\n",
            "- Exploring applications in cloud computing resource utilization and blockchain security.\n",
            "- Investigating federated learning for localized threat classification in SDN environments.\n",
            "-  FAST provides a foundation for building more robust and intelligent SDN solutions.\n"
          ]
        }
      ]
    },
    {
      "cell_type": "code",
      "source": [
        "import re\n",
        "\n",
        "def preprocess_slide_content(slide_content):\n",
        "    \"\"\"Parses slide content into a structured format for PowerPoint generation.\"\"\"\n",
        "    slides = []\n",
        "\n",
        "    # Adjusted regex split to preserve first slide\n",
        "    slide_blocks = re.split(r\"[\\*\\_]{1,2}Slide Title: (.+?)[\\*\\_]{1,2}\\n\", slide_content.strip())\n",
        "\n",
        "    if not slide_blocks[0].strip():  # If there's an empty block at the beginning, remove it\n",
        "        slide_blocks = slide_blocks[1:]\n",
        "\n",
        "    for i in range(0, len(slide_blocks), 2):\n",
        "        title = slide_blocks[i].strip()  # Extract title\n",
        "        content_block = slide_blocks[i + 1].strip()  # Extract content under this title\n",
        "\n",
        "        # Extract bullet points\n",
        "        bullet_points = re.findall(r\"^- (.+)\", content_block, re.MULTILINE)\n",
        "\n",
        "        # Remove Markdown bold (**text**) and italic (*text*)\n",
        "        clean_bullets = [re.sub(r\"\\*\\*(.*?)\\*\\*|\\*(.*?)\\*\", r\"\\1\\2\", point) for point in bullet_points]\n",
        "\n",
        "        # Remove <sub>...</sub> tags\n",
        "        clean_bullets = [re.sub(r\"<sub>(.*?)<\\/sub>\", r\"\\1\", point) for point in clean_bullets]\n",
        "\n",
        "        slides.append({\"title\": title, \"content\": clean_bullets})\n",
        "\n",
        "    return slides\n",
        "\n",
        "# Example Usage\n",
        "structured_slides = preprocess_slide_content(slide_content)\n",
        "\n",
        "# Print parsed slides to verify structure\n",
        "for slide in structured_slides:\n",
        "    print(f\"\\nSlide Title: {slide['title']}\")\n",
        "    for point in slide[\"content\"]:\n",
        "        print(f\"- {point}\")\n"
      ],
      "metadata": {
        "colab": {
          "base_uri": "https://localhost:8080/"
        },
        "id": "7eW3AD_1mgpr",
        "outputId": "5a48bfa8-b5cc-463d-e9d5-def7ae57f9da"
      },
      "execution_count": 41,
      "outputs": [
        {
          "output_type": "stream",
          "name": "stdout",
          "text": [
            "\n",
            "Slide Title: Introduction: Addressing SDN Challenges in Smart Ecosystems\n",
            "- Traditional SDN faces scalability and performance bottlenecks.\n",
            "- Single points of failure impact network resilience.\n",
            "- Inefficient resource utilization leads to performance degradation.\n",
            "- Existing solutions struggle with complex and dynamic traffic patterns.\n",
            "- FAST (Framework for Analyzing SDN Traffic) proposes a novel clustered SDN architecture with intelligent routing.\n",
            "- This approach enhances scalability, fault tolerance, and resource efficiency.\n",
            "\n",
            "Slide Title: FAST Architecture: A Three-Layered Approach\n",
            "- Network Communication Layer: Models diverse communication patterns (C-S, S2S, P2P, IoT, Social Network). Mathematical functions represent each type.\n",
            "- Mainframe SDN-AI Layer: Houses the core intelligence. Mainframe SDN controller integrates the Ensemble Learning (EL) model.  Trained on \"Labeled Network Traffic Flows\" dataset.\n",
            "- SDN Clustering Layer: Specialized SDN controller clusters (Web, Network, IoT, Social Network, Default).  Handles traffic based on category.  Default cluster manages low-load scenarios.\n",
            "- Improves scalability and fault tolerance by distributing control plane.\n",
            "- Enables efficient resource utilization by directing traffic to specialized clusters.\n",
            "- Provides a flexible and adaptable framework for managing diverse traffic types.\n",
            "\n",
            "Slide Title: Intelligent Traffic Routing with Ensemble Learning\n",
            "- Employs a stacking classifier as the EL model.\n",
            "- Base Learners: Logistic Regression, Decision Trees, Random Forest.\n",
            "- Meta-Learner: Logistic Regression.\n",
            "- Leverages the strengths of multiple base learners for improved accuracy.\n",
            "- Stacking combines predictions for a more robust classification.\n",
            "- Outperforms traditional ML models in traffic classification tasks.\n",
            "\n",
            "Slide Title: System Model and Problem Formulation\n",
            "- Data (D) originates from network applications within a Smart Ecosystem (SE):  D ← N ∈ SE\n",
            "- Data is categorized: D = {Πweb, Πnetwork, Πiot, Πsocialnetwork}\n",
            "- Mainframe SDN Controller (ΨSDN) uses the EL model (λEL) to predict the category (Θ): Θ = ΨSDN(λEL(D))\n",
            "- Predicted category belongs to a cluster: Θ ∈ C\n",
            "- Traffic is forwarded to the corresponding cluster: C = {Cweb, Cnetwork, Ciot, Csocialnetwork, Cdefault}\n",
            "- This model ensures efficient routing and resource allocation based on traffic type.\n",
            "\n",
            "Slide Title: Performance Evaluation and Results\n",
            "- Dataset: \"Labeled Network Traffic Flows\" (approx. 2.7 million flows, 50 features).\n",
            "- Evaluation Metrics: Accuracy, F1-score, Precision, Recall.\n",
            "- Confusion Matrix: High diagonal values demonstrate accurate classification.\n",
            "- ROC Curve and PR Curve:  Further validate the model's performance (details in paper).\n",
            "- Comparison with other ML models: EL model achieves superior performance across all metrics.\n",
            "- Results demonstrate the effectiveness of the EL model for accurate traffic classification.\n",
            "\n",
            "Slide Title: Conclusion and Future Directions\n",
            "- FAST enhances scalability, fault tolerance, and resource utilization in SDN-based smart ecosystems.\n",
            "- Intelligent traffic routing via ensemble learning significantly improves performance.\n",
            "- Future work includes optimizing resource management and security in 5G networks.\n",
            "- Exploring applications in cloud computing resource utilization and blockchain security.\n",
            "- Investigating federated learning for localized threat classification in SDN environments.\n",
            "-  FAST provides a foundation for building more robust and intelligent SDN solutions.\n"
          ]
        }
      ]
    },
    {
      "cell_type": "markdown",
      "source": [
        "MAKING A PRESENTATION"
      ],
      "metadata": {
        "id": "s2GE5MvAmkd3"
      }
    },
    {
      "cell_type": "code",
      "source": [
        "!pip install python-pptx"
      ],
      "metadata": {
        "colab": {
          "base_uri": "https://localhost:8080/"
        },
        "id": "58WolsKemjCa",
        "outputId": "f9278cc8-6225-4edf-f2d6-608e6eee8834",
        "collapsed": true
      },
      "execution_count": 25,
      "outputs": [
        {
          "output_type": "stream",
          "name": "stdout",
          "text": [
            "Collecting python-pptx\n",
            "  Downloading python_pptx-1.0.2-py3-none-any.whl.metadata (2.5 kB)\n",
            "Requirement already satisfied: Pillow>=3.3.2 in /usr/local/lib/python3.11/dist-packages (from python-pptx) (11.1.0)\n",
            "Collecting XlsxWriter>=0.5.7 (from python-pptx)\n",
            "  Downloading XlsxWriter-3.2.2-py3-none-any.whl.metadata (2.8 kB)\n",
            "Requirement already satisfied: lxml>=3.1.0 in /usr/local/lib/python3.11/dist-packages (from python-pptx) (5.3.0)\n",
            "Requirement already satisfied: typing-extensions>=4.9.0 in /usr/local/lib/python3.11/dist-packages (from python-pptx) (4.12.2)\n",
            "Downloading python_pptx-1.0.2-py3-none-any.whl (472 kB)\n",
            "\u001b[2K   \u001b[90m━━━━━━━━━━━━━━━━━━━━━━━━━━━━━━━━━━━━━━━━\u001b[0m \u001b[32m472.8/472.8 kB\u001b[0m \u001b[31m7.9 MB/s\u001b[0m eta \u001b[36m0:00:00\u001b[0m\n",
            "\u001b[?25hDownloading XlsxWriter-3.2.2-py3-none-any.whl (165 kB)\n",
            "\u001b[2K   \u001b[90m━━━━━━━━━━━━━━━━━━━━━━━━━━━━━━━━━━━━━━━━\u001b[0m \u001b[32m165.1/165.1 kB\u001b[0m \u001b[31m9.4 MB/s\u001b[0m eta \u001b[36m0:00:00\u001b[0m\n",
            "\u001b[?25hInstalling collected packages: XlsxWriter, python-pptx\n",
            "Successfully installed XlsxWriter-3.2.2 python-pptx-1.0.2\n"
          ]
        }
      ]
    },
    {
      "cell_type": "code",
      "source": [
        "from transformers import CLIPTokenizer\n",
        "\n",
        "# Load CLIP tokenizer\n",
        "tokenizer = CLIPTokenizer.from_pretrained(\"openai/clip-vit-base-patch32\")\n",
        "\n",
        "\n",
        "#QUERY FOR EACH SLIDE IMAGE SHOULD BE OF 77 TOKENS MAX AS PER CLIP MODEL EMBED SIZE\n",
        "def preprocess_query(query, max_tokens=77):\n",
        "    \"\"\"Truncate the query properly to fit CLIP's max token length.\"\"\"\n",
        "    encoded = tokenizer(query, truncation=True, max_length=max_tokens, return_tensors=\"pt\")\n",
        "    return tokenizer.decode(encoded[\"input_ids\"][0], skip_special_tokens=True)\n"
      ],
      "metadata": {
        "id": "-G4h1yWRADFG"
      },
      "execution_count": 42,
      "outputs": []
    },
    {
      "cell_type": "markdown",
      "source": [
        "CHOOSE BETWEEN LIGHT MODE, DARK MODE AND FUN MODE PRESENTATION FOR USER CUSTOMIZATION"
      ],
      "metadata": {
        "id": "WDY5pFs1C5a4"
      }
    },
    {
      "cell_type": "code",
      "source": [
        "from pptx import Presentation\n",
        "from pptx.util import Inches, Pt\n",
        "from pptx.dml.color import RGBColor\n",
        "from pptx.enum.text import PP_ALIGN\n",
        "from pptx.enum.shapes import MSO_SHAPE\n",
        "from transformers import CLIPTokenizer\n",
        "\n",
        "# Load CLIP tokenizer\n",
        "tokenizer = CLIPTokenizer.from_pretrained(\"openai/clip-vit-base-patch32\")\n",
        "\n",
        "# Define template styles\n",
        "TEMPLATES = {\n",
        "    \"LIGHT\": {\n",
        "        \"background_color\": RGBColor(255, 255, 255),\n",
        "        \"title_color\": RGBColor(0, 51, 102),\n",
        "        \"text_color\": RGBColor(0, 0, 0),\n",
        "        \"font_size_title\": 36,\n",
        "        \"font_size_content\": 24,\n",
        "    },\n",
        "    \"FUN\": {\n",
        "        \"background_color\": RGBColor(255, 223, 186),\n",
        "        \"title_color\": RGBColor(255, 0, 102),\n",
        "        \"text_color\": RGBColor(51, 51, 51),\n",
        "        \"font_size_title\": 34,\n",
        "        \"font_size_content\": 22,\n",
        "    },\n",
        "    \"DARK\": {\n",
        "        \"background_color\": RGBColor(34, 34, 34),\n",
        "        \"title_color\": RGBColor(0, 255, 255),\n",
        "        \"text_color\": RGBColor(255, 255, 255),\n",
        "        \"font_size_title\": 32,\n",
        "        \"font_size_content\": 20,\n",
        "    },\n",
        "}\n",
        "\n",
        "used_images = set()  # Track used images\n",
        "\n",
        "def preprocess_query(query, max_tokens=77):\n",
        "    \"\"\"Truncate the query properly to fit CLIP's max token length.\"\"\"\n",
        "    encoded = tokenizer(query, truncation=True, max_length=max_tokens, return_tensors=\"pt\")\n",
        "    return tokenizer.decode(encoded[\"input_ids\"][0], skip_special_tokens=True)\n",
        "\n",
        "def remove_used_image(image_path, file_path=\"image_paths.txt\"):\n",
        "    \"\"\"Remove used image from the file to prevent reuse.\"\"\"\n",
        "    with open(file_path, \"r\") as f:\n",
        "        lines = f.readlines()\n",
        "    with open(file_path, \"w\") as f:\n",
        "        for line in lines:\n",
        "            if line.strip() != image_path:\n",
        "                f.write(line)\n",
        "\n",
        "def search_images(query, faiss_index_path, image_list_path, top_k=1):\n",
        "    \"\"\"Retrieve relevant images while avoiding duplicates.\"\"\"\n",
        "    all_images = []\n",
        "    with open(image_list_path, \"r\") as f:\n",
        "        all_images = [line.strip() for line in f.readlines()]\n",
        "\n",
        "    # Simulating FAISS retrieval (Replace with actual FAISS search)\n",
        "    retrieved = [(img, 1.0) for img in all_images if img not in used_images][:top_k]\n",
        "\n",
        "    return retrieved  # List of tuples [(image_path, score)]\n",
        "\n",
        "def create_presentation(slides_data, template=\"LIGHT\", output_filename=\"research_presentation.pptx\"):\n",
        "    \"\"\"Generates a PowerPoint with alternating image positions and title layering.\"\"\"\n",
        "    prs = Presentation()\n",
        "\n",
        "    if template not in TEMPLATES:\n",
        "        print(f\"Invalid template: {template}. Defaulting to LIGHT.\")\n",
        "        template = \"LIGHT\"\n",
        "\n",
        "    style = TEMPLATES[template]\n",
        "\n",
        "    # ---- First Slide: Research Paper Title ----\n",
        "    first_slide = prs.slides.add_slide(prs.slide_layouts[0])\n",
        "    first_slide.background.fill.solid()\n",
        "    first_slide.background.fill.fore_color.rgb = style[\"background_color\"]\n",
        "\n",
        "    title_shape = first_slide.shapes.title\n",
        "    title_shape.text = slides_data[0][\"title\"]\n",
        "    title_shape.text_frame.paragraphs[0].font.size = Pt(44)\n",
        "    title_shape.text_frame.paragraphs[0].font.bold = True\n",
        "    title_shape.text_frame.paragraphs[0].font.color.rgb = style[\"title_color\"]\n",
        "    title_shape.text_frame.paragraphs[0].alignment = PP_ALIGN.CENTER\n",
        "\n",
        "    # ---- Content Slides ----\n",
        "    for index, slide_data in enumerate(slides_data[1:]):\n",
        "        slide = prs.slides.add_slide(prs.slide_layouts[5])\n",
        "        slide.background.fill.solid()\n",
        "        slide.background.fill.fore_color.rgb = style[\"background_color\"]\n",
        "\n",
        "        # Title Formatting\n",
        "        title_shape = slide.shapes.title\n",
        "        title_shape.text = slide_data[\"title\"]\n",
        "        title_shape.text_frame.paragraphs[0].font.size = Pt(style[\"font_size_title\"])\n",
        "        title_shape.text_frame.paragraphs[0].font.bold = True\n",
        "        title_shape.text_frame.paragraphs[0].font.color.rgb = style[\"title_color\"]\n",
        "        title_shape.text_frame.paragraphs[0].alignment = PP_ALIGN.LEFT\n",
        "\n",
        "        # Image Alternating Left and Right\n",
        "        if index % 2 == 0:\n",
        "            img_left = Inches(0.5)\n",
        "            text_left = Inches(4.4)\n",
        "        else:\n",
        "            img_left = Inches(6.2)\n",
        "            text_left = Inches(0.5)\n",
        "\n",
        "        img_top = Inches(1.5)\n",
        "        img_width = Inches(3.5)\n",
        "        img_height = Inches(4.5)\n",
        "\n",
        "        try:\n",
        "            query = slide_data[\"title\"] + \" \" + \" \".join(slide_data[\"content\"])\n",
        "            query = preprocess_query(query)\n",
        "            retrieved_images = search_images(query, \"image_faiss.index\", \"image_paths.txt\", top_k=1)\n",
        "\n",
        "            if retrieved_images:\n",
        "                image_path = retrieved_images[0][0]\n",
        "                slide.shapes.add_picture(image_path, img_left, img_top, width=img_width, height=img_height)\n",
        "                used_images.add(image_path)  # Mark as used\n",
        "                remove_used_image(image_path)  # Remove from file to prevent reuse\n",
        "            else:\n",
        "                print(f\"⚠️ No relevant image found for query: {query}. Using placeholder instead.\")\n",
        "                placeholder = slide.shapes.add_shape(MSO_SHAPE.RECTANGLE, img_left, img_top, img_width, img_height)\n",
        "                placeholder.fill.solid()\n",
        "                placeholder.fill.fore_color.rgb = RGBColor(200, 200, 200)\n",
        "                placeholder.text = \"Image Here\"\n",
        "        except Exception as e:\n",
        "            print(f\"⚠️ Could not load image: {e}. Using placeholder instead.\")\n",
        "            placeholder = slide.shapes.add_shape(MSO_SHAPE.RECTANGLE, img_left, img_top, img_width, img_height)\n",
        "            placeholder.fill.solid()\n",
        "            placeholder.fill.fore_color.rgb = RGBColor(200, 200, 200)\n",
        "            placeholder.text = \"Image Here\"\n",
        "\n",
        "        # Text Box (Opposite to Image)\n",
        "        text_top = Inches(1.2)\n",
        "        text_width = Inches(5.5)\n",
        "        text_height = Inches(5)\n",
        "\n",
        "        textbox = slide.shapes.add_textbox(text_left, text_top, text_width, text_height)\n",
        "        text_frame = textbox.text_frame\n",
        "        text_frame.word_wrap = True\n",
        "        text_frame.clear()\n",
        "\n",
        "\n",
        "        for point in slide_data[\"content\"]:\n",
        "            p = text_frame.add_paragraph()\n",
        "            p.text = f\"• {point}\"\n",
        "            p.space_after = Pt(10)\n",
        "            p.font.size = Pt(style[\"font_size_content\"])\n",
        "            p.font.color.rgb = style[\"text_color\"]\n",
        "\n",
        "    prs.save(output_filename)\n",
        "    print(f\"✅ Presentation saved as {output_filename}\")\n",
        "\n",
        "# CHOOSE BETWEEN DARK, LIGHT AND FUN THEMES\n",
        "create_presentation(structured_slides, template=\"DARK\")\n"
      ],
      "metadata": {
        "colab": {
          "base_uri": "https://localhost:8080/"
        },
        "id": "SDSuI2WdC2FB",
        "outputId": "8ee604df-2cbe-4ae5-920b-bd0d38985a73"
      },
      "execution_count": 43,
      "outputs": [
        {
          "output_type": "stream",
          "name": "stdout",
          "text": [
            "⚠️ No relevant image found for query: conclusion and future directions fast enhances scalability , fault tolerance , and resource utilization in sdn - based smart ecosystems . intelligent traffic routing via ensemble learning significantly improves performance . future work includes optimizing resource management and security in 5 g networks . exploring applications in cloud computing resource utilization and blockchain security . investigating federated learning for localized threat classification in sdn environments . fast provides a foundation for. Using placeholder instead.\n",
            "✅ Presentation saved as research_presentation.pptx\n"
          ]
        }
      ]
    },
    {
      "cell_type": "code",
      "source": [],
      "metadata": {
        "id": "tD6pltyhDzzV"
      },
      "execution_count": 28,
      "outputs": []
    }
  ]
}